{
  "nbformat": 4,
  "nbformat_minor": 0,
  "metadata": {
    "colab": {
      "provenance": []
    },
    "kernelspec": {
      "name": "python3",
      "display_name": "Python 3"
    }
  },
  "cells": [
    {
      "cell_type": "markdown",
      "metadata": {
        "id": "ST5d6dw3dLZh"
      },
      "source": [
        "# **AP157 Machine Learning Lab Assignment**\n",
        "## Module A.2: Classification -- Morphological Classification of Galaxies using Decision Trees\n",
        "\n",
        "_Instructions_: Answer each part of the assignment as completely as you can. Discuss **all** your code and results as clearly and concisely as possible.\n",
        "\n",
        "_Scoring Criteria_: 50% - *correctness of code*; 50% - *discussion of the code and results*. Maximum score is **100 points** (Parts 1, 2, and 3 are worth 20, 40, and 40 points, respectively).\n",
        "\n",
        "_Credits_: This assignment is based on the Week 6 module of the Coursera course \"Data-driven Astronomy\", \"Exploring machine learning classification\" ([link](https://www.coursera.org/learn/data-driven-astronomy/home/welcome))"
      ]
    },
    {
      "cell_type": "markdown",
      "metadata": {
        "id": "iZZaEzKHdVYG"
      },
      "source": [
        "### Student Information\n",
        "\n",
        "_Full Name (Last Name, First Name)_: Manuel, Johann Jude\\\n",
        "_Student No._: 2021-08318\\\n",
        "_Section_: TX-2"
      ]
    },
    {
      "cell_type": "markdown",
      "metadata": {
        "id": "Xv1STpPodaDL"
      },
      "source": [
        "### Submission Information\n",
        "\n",
        "_Date and Time Submitted (most recent upload)_: 05/03/24 11:30 PM\n",
        "\n",
        "**HONOR PLEDGE** I affirm that I have upheld the highest principles of honesty and integrity in my academic work and that this lab assignment is my own work.\n",
        "\n",
        "**Sign here with your full name:** JOHANN JUDE TAN MANUEL"
      ]
    },
    {
      "cell_type": "markdown",
      "metadata": {
        "id": "8zw1kC_rdoHT"
      },
      "source": [
        "### Grading Information (c/o Instructor)\n",
        "\n",
        "TOTAL SCORE: **[]**/100\n",
        "\n",
        "Score breakdown:\n",
        "* Part 1 - []/20\n",
        "* Part 2 - []/40\n",
        "* Part 3 - []/40\n",
        "\n",
        "_Date and Time Scored (MM/DD/YYYY HH:MM AM/PM):_"
      ]
    },
    {
      "cell_type": "markdown",
      "metadata": {
        "id": "UNaYs-MfeDRl"
      },
      "source": [
        "For this assignment, you will work with galaxy data from the\n",
        "Sloan Digital Sky Survey (SDSS). First, you need to make a copy of the binary file ```galaxy_catalogue.npy``` and save it to a folder in your **own Google Drive**. This file is available from the AP157 Machine Learning Google Drive (under the Datasets folder).\n",
        "\n",
        "The code cells below will (1) mount your Google Drive and (2) load ```galaxy_catalogue.npy``` from your Google Drive folder."
      ]
    },
    {
      "cell_type": "markdown",
      "metadata": {
        "id": "ee1mHlUWfcsc"
      },
      "source": [
        "Mount the Google Drive where you saved the .npy file.\n",
        "\n",
        "When you run this cell, you will be asked to sign in to your Google account and you will get an authorization code. Paste the code on the provided cell to mount the Google Drive."
      ]
    },
    {
      "cell_type": "code",
      "metadata": {
        "id": "yH0IOwb1YBHc",
        "outputId": "237d4476-9421-4e50-8103-a830973b93dd",
        "colab": {
          "base_uri": "https://localhost:8080/"
        }
      },
      "source": [
        "from google.colab import drive\n",
        "drive.mount(\"/content/drive\")"
      ],
      "execution_count": 1,
      "outputs": [
        {
          "output_type": "stream",
          "name": "stdout",
          "text": [
            "Mounted at /content/drive\n"
          ]
        }
      ]
    },
    {
      "cell_type": "markdown",
      "metadata": {
        "id": "k0C5c-8ofqDu"
      },
      "source": [
        "Run this command to list the directories in your Google Drive and check that the mount was successful."
      ]
    },
    {
      "cell_type": "code",
      "metadata": {
        "id": "mzKLlj20fsJu"
      },
      "source": [
        "!ls drive/My\\ Drive"
      ],
      "execution_count": null,
      "outputs": []
    },
    {
      "cell_type": "markdown",
      "metadata": {
        "id": "XPLuh_jWfju8"
      },
      "source": [
        "Define the directory path to the location of the file, i.e. if it is in a\n",
        "folder named \"AP157\" under My Drive, then the file path will be \"/content/drive/My Drive/AP157\". Change the string variable in the code cell below, as needed:"
      ]
    },
    {
      "cell_type": "code",
      "metadata": {
        "id": "jRpIuwdigDg5"
      },
      "source": [
        "file_path = \"/content/drive/My Drive/AP157/\""
      ],
      "execution_count": 3,
      "outputs": []
    },
    {
      "cell_type": "markdown",
      "metadata": {
        "id": "VW7RFRGaik-6"
      },
      "source": [
        "Now, we can load the file using $\\tt numpy$'s $\\tt load$ function below.\n",
        "\n",
        "\n",
        "\n"
      ]
    },
    {
      "cell_type": "code",
      "metadata": {
        "id": "y61tYmPIimUv"
      },
      "source": [
        "import numpy as np\n",
        "\n",
        "data = np.load(file_path + 'galaxy_catalogue.npy')"
      ],
      "execution_count": 4,
      "outputs": []
    },
    {
      "cell_type": "markdown",
      "metadata": {
        "id": "HpXP16UfWHQK"
      },
      "source": [
        "Print out the first couple of rows. Note that the columns are: $u-g$, $g-r$, $r-i$, $i-z$, eccentricity, $m_u$, $m_g$, $m_r$, $m_i$, $m_z$, $R_{50,u}$, $R_{50,r}$, $R_{50,z}$, $R_{90,u}$, $R_{90,r}$, $R_{90,z}$, and class."
      ]
    },
    {
      "cell_type": "code",
      "metadata": {
        "id": "HbQiDjyIWsjr",
        "outputId": "bc5ae30a-138a-4166-f3b1-a89f53e7070f",
        "colab": {
          "base_uri": "https://localhost:8080/"
        }
      },
      "source": [
        "data[:2]"
      ],
      "execution_count": 5,
      "outputs": [
        {
          "output_type": "execute_result",
          "data": {
            "text/plain": [
              "array([(1.85765, 0.67158, 0.4231 , 0.3061 , 0.5854284, 2.251946, 2.339849, 2.380652, 2.359738, 2.395528, 3.095123, 3.818919, 3.82623 , 5.174814, 8.263009, 11.47734 , 'merger'),\n",
              "       (1.74259, 0.86085, 0.44927, 0.28851, 0.7498125, 2.031566, 2.084156, 2.092272, 2.124075, 2.133154, 1.430436, 1.422533, 1.385727, 3.732712, 3.416921,  3.330347, 'merger')],\n",
              "      dtype=[('u-g', '<f8'), ('g-r', '<f8'), ('r-i', '<f8'), ('i-z', '<f8'), ('ecc', '<f8'), ('m4_u', '<f8'), ('m4_g', '<f8'), ('m4_r', '<f8'), ('m4_i', '<f8'), ('m4_z', '<f8'), ('petroR50_u', '<f8'), ('petroR50_r', '<f8'), ('petroR50_z', '<f8'), ('petroR90_u', '<f8'), ('petroR90_r', '<f8'), ('petroR90_z', '<f8'), ('class', '<U20')])"
            ]
          },
          "metadata": {},
          "execution_count": 5
        }
      ]
    },
    {
      "cell_type": "markdown",
      "metadata": {
        "id": "_eq2V7xzFtq7"
      },
      "source": [
        "#### PART 1 - Get features and targets *(20 pts.)*\n",
        "\n",
        "Write a function ```get_features_targets``` that splits the dataset into input features and their corresponding targets. In our case, the inputs are the 4 galaxy colors ($u-g$, $g-r$, $r-i$, and $i-z$), eccentricity, $ugriz$ magnitudes, and concentrations $R_{50}/R_{90}$ in the $u$, $r$, and $z$ bands. The targets are the classes.\n",
        "\n",
        "Here's an example of how your function should work:\n",
        "```\n",
        ">>> features, targets = get_features_targets(data)\n",
        ">>> print(\"Features shape:\", features.shape\n",
        ">>> print(\"Targets shape:\", targets.shape)\n",
        "Features shape: (780, 13)\n",
        "Targets shape: (780,)\n",
        "```"
      ]
    },
    {
      "cell_type": "code",
      "metadata": {
        "id": "mfMtufdukBnu"
      },
      "source": [
        "import pandas as pd\n",
        "from sklearn.model_selection import train_test_split"
      ],
      "execution_count": 6,
      "outputs": []
    },
    {
      "cell_type": "code",
      "source": [
        "def get_feature_targets(data):\n",
        "  df = pd.DataFrame(data) # Create pandas dataframe to manipulate dataset\n",
        "\n",
        "  # Create new features from existing\n",
        "  df[\"R50/R90_u\"] = df[\"petroR50_u\"] / df[\"petroR90_u\"]\n",
        "  df[\"R50/R90_r\"] = df[\"petroR50_r\"] / df[\"petroR90_r\"]\n",
        "  df[\"R50/R90_z\"] = df[\"petroR50_z\"] / df[\"petroR90_z\"]\n",
        "\n",
        "  targets = df[[\"class\"]]   # Create a separate df for target column\n",
        "\n",
        "  # Drop unneeded features from dataset including target\n",
        "  features = df.drop([\"petroR50_u\", \"petroR90_u\", \"petroR50_r\", \"petroR90_r\", \"petroR50_z\", \"petroR90_z\", \"class\"], axis=1)\n",
        "\n",
        "  return targets, features, df\n",
        "\n",
        "targets, features, df = get_feature_targets(data)\n",
        "features.head()"
      ],
      "metadata": {
        "id": "FZWZ55b4FZaq",
        "outputId": "998c8667-0f39-4ce7-8a99-541333ee5f57",
        "colab": {
          "base_uri": "https://localhost:8080/",
          "height": 206
        }
      },
      "execution_count": 25,
      "outputs": [
        {
          "output_type": "execute_result",
          "data": {
            "text/plain": [
              "       u-g      g-r      r-i      i-z       ecc      m4_u      m4_g      m4_r  \\\n",
              "0  1.85765  0.67158  0.42310  0.30610  0.585428  2.251946  2.339849  2.380652   \n",
              "1  1.74259  0.86085  0.44927  0.28851  0.749812  2.031566  2.084156  2.092272   \n",
              "2  2.10697  0.96710  0.56810  0.33747  0.630089  1.992887  2.450746  2.473116   \n",
              "3  1.22840  0.60446  0.39049  0.28913  0.668999  2.056115  2.182252  2.309510   \n",
              "4  1.80792  0.78124  0.45528  0.35067  0.500170  2.259167  2.194723  2.264567   \n",
              "\n",
              "       m4_i      m4_z  R50/R90_u  R50/R90_r  R50/R90_z  \n",
              "0  2.359738  2.395528   0.598113   0.462170   0.333373  \n",
              "1  2.124075  2.133154   0.383216   0.416320   0.416091  \n",
              "2  2.465324  2.438683   0.340249   0.433751   0.307428  \n",
              "3  2.391414  2.472397   0.378602   0.333005   0.314361  \n",
              "4  2.334713  2.352568   0.353735   0.322113   0.339692  "
            ],
            "text/html": [
              "\n",
              "  <div id=\"df-236e25ed-af5f-4988-a53e-23847e84ba46\" class=\"colab-df-container\">\n",
              "    <div>\n",
              "<style scoped>\n",
              "    .dataframe tbody tr th:only-of-type {\n",
              "        vertical-align: middle;\n",
              "    }\n",
              "\n",
              "    .dataframe tbody tr th {\n",
              "        vertical-align: top;\n",
              "    }\n",
              "\n",
              "    .dataframe thead th {\n",
              "        text-align: right;\n",
              "    }\n",
              "</style>\n",
              "<table border=\"1\" class=\"dataframe\">\n",
              "  <thead>\n",
              "    <tr style=\"text-align: right;\">\n",
              "      <th></th>\n",
              "      <th>u-g</th>\n",
              "      <th>g-r</th>\n",
              "      <th>r-i</th>\n",
              "      <th>i-z</th>\n",
              "      <th>ecc</th>\n",
              "      <th>m4_u</th>\n",
              "      <th>m4_g</th>\n",
              "      <th>m4_r</th>\n",
              "      <th>m4_i</th>\n",
              "      <th>m4_z</th>\n",
              "      <th>R50/R90_u</th>\n",
              "      <th>R50/R90_r</th>\n",
              "      <th>R50/R90_z</th>\n",
              "    </tr>\n",
              "  </thead>\n",
              "  <tbody>\n",
              "    <tr>\n",
              "      <th>0</th>\n",
              "      <td>1.85765</td>\n",
              "      <td>0.67158</td>\n",
              "      <td>0.42310</td>\n",
              "      <td>0.30610</td>\n",
              "      <td>0.585428</td>\n",
              "      <td>2.251946</td>\n",
              "      <td>2.339849</td>\n",
              "      <td>2.380652</td>\n",
              "      <td>2.359738</td>\n",
              "      <td>2.395528</td>\n",
              "      <td>0.598113</td>\n",
              "      <td>0.462170</td>\n",
              "      <td>0.333373</td>\n",
              "    </tr>\n",
              "    <tr>\n",
              "      <th>1</th>\n",
              "      <td>1.74259</td>\n",
              "      <td>0.86085</td>\n",
              "      <td>0.44927</td>\n",
              "      <td>0.28851</td>\n",
              "      <td>0.749812</td>\n",
              "      <td>2.031566</td>\n",
              "      <td>2.084156</td>\n",
              "      <td>2.092272</td>\n",
              "      <td>2.124075</td>\n",
              "      <td>2.133154</td>\n",
              "      <td>0.383216</td>\n",
              "      <td>0.416320</td>\n",
              "      <td>0.416091</td>\n",
              "    </tr>\n",
              "    <tr>\n",
              "      <th>2</th>\n",
              "      <td>2.10697</td>\n",
              "      <td>0.96710</td>\n",
              "      <td>0.56810</td>\n",
              "      <td>0.33747</td>\n",
              "      <td>0.630089</td>\n",
              "      <td>1.992887</td>\n",
              "      <td>2.450746</td>\n",
              "      <td>2.473116</td>\n",
              "      <td>2.465324</td>\n",
              "      <td>2.438683</td>\n",
              "      <td>0.340249</td>\n",
              "      <td>0.433751</td>\n",
              "      <td>0.307428</td>\n",
              "    </tr>\n",
              "    <tr>\n",
              "      <th>3</th>\n",
              "      <td>1.22840</td>\n",
              "      <td>0.60446</td>\n",
              "      <td>0.39049</td>\n",
              "      <td>0.28913</td>\n",
              "      <td>0.668999</td>\n",
              "      <td>2.056115</td>\n",
              "      <td>2.182252</td>\n",
              "      <td>2.309510</td>\n",
              "      <td>2.391414</td>\n",
              "      <td>2.472397</td>\n",
              "      <td>0.378602</td>\n",
              "      <td>0.333005</td>\n",
              "      <td>0.314361</td>\n",
              "    </tr>\n",
              "    <tr>\n",
              "      <th>4</th>\n",
              "      <td>1.80792</td>\n",
              "      <td>0.78124</td>\n",
              "      <td>0.45528</td>\n",
              "      <td>0.35067</td>\n",
              "      <td>0.500170</td>\n",
              "      <td>2.259167</td>\n",
              "      <td>2.194723</td>\n",
              "      <td>2.264567</td>\n",
              "      <td>2.334713</td>\n",
              "      <td>2.352568</td>\n",
              "      <td>0.353735</td>\n",
              "      <td>0.322113</td>\n",
              "      <td>0.339692</td>\n",
              "    </tr>\n",
              "  </tbody>\n",
              "</table>\n",
              "</div>\n",
              "    <div class=\"colab-df-buttons\">\n",
              "\n",
              "  <div class=\"colab-df-container\">\n",
              "    <button class=\"colab-df-convert\" onclick=\"convertToInteractive('df-236e25ed-af5f-4988-a53e-23847e84ba46')\"\n",
              "            title=\"Convert this dataframe to an interactive table.\"\n",
              "            style=\"display:none;\">\n",
              "\n",
              "  <svg xmlns=\"http://www.w3.org/2000/svg\" height=\"24px\" viewBox=\"0 -960 960 960\">\n",
              "    <path d=\"M120-120v-720h720v720H120Zm60-500h600v-160H180v160Zm220 220h160v-160H400v160Zm0 220h160v-160H400v160ZM180-400h160v-160H180v160Zm440 0h160v-160H620v160ZM180-180h160v-160H180v160Zm440 0h160v-160H620v160Z\"/>\n",
              "  </svg>\n",
              "    </button>\n",
              "\n",
              "  <style>\n",
              "    .colab-df-container {\n",
              "      display:flex;\n",
              "      gap: 12px;\n",
              "    }\n",
              "\n",
              "    .colab-df-convert {\n",
              "      background-color: #E8F0FE;\n",
              "      border: none;\n",
              "      border-radius: 50%;\n",
              "      cursor: pointer;\n",
              "      display: none;\n",
              "      fill: #1967D2;\n",
              "      height: 32px;\n",
              "      padding: 0 0 0 0;\n",
              "      width: 32px;\n",
              "    }\n",
              "\n",
              "    .colab-df-convert:hover {\n",
              "      background-color: #E2EBFA;\n",
              "      box-shadow: 0px 1px 2px rgba(60, 64, 67, 0.3), 0px 1px 3px 1px rgba(60, 64, 67, 0.15);\n",
              "      fill: #174EA6;\n",
              "    }\n",
              "\n",
              "    .colab-df-buttons div {\n",
              "      margin-bottom: 4px;\n",
              "    }\n",
              "\n",
              "    [theme=dark] .colab-df-convert {\n",
              "      background-color: #3B4455;\n",
              "      fill: #D2E3FC;\n",
              "    }\n",
              "\n",
              "    [theme=dark] .colab-df-convert:hover {\n",
              "      background-color: #434B5C;\n",
              "      box-shadow: 0px 1px 3px 1px rgba(0, 0, 0, 0.15);\n",
              "      filter: drop-shadow(0px 1px 2px rgba(0, 0, 0, 0.3));\n",
              "      fill: #FFFFFF;\n",
              "    }\n",
              "  </style>\n",
              "\n",
              "    <script>\n",
              "      const buttonEl =\n",
              "        document.querySelector('#df-236e25ed-af5f-4988-a53e-23847e84ba46 button.colab-df-convert');\n",
              "      buttonEl.style.display =\n",
              "        google.colab.kernel.accessAllowed ? 'block' : 'none';\n",
              "\n",
              "      async function convertToInteractive(key) {\n",
              "        const element = document.querySelector('#df-236e25ed-af5f-4988-a53e-23847e84ba46');\n",
              "        const dataTable =\n",
              "          await google.colab.kernel.invokeFunction('convertToInteractive',\n",
              "                                                    [key], {});\n",
              "        if (!dataTable) return;\n",
              "\n",
              "        const docLinkHtml = 'Like what you see? Visit the ' +\n",
              "          '<a target=\"_blank\" href=https://colab.research.google.com/notebooks/data_table.ipynb>data table notebook</a>'\n",
              "          + ' to learn more about interactive tables.';\n",
              "        element.innerHTML = '';\n",
              "        dataTable['output_type'] = 'display_data';\n",
              "        await google.colab.output.renderOutput(dataTable, element);\n",
              "        const docLink = document.createElement('div');\n",
              "        docLink.innerHTML = docLinkHtml;\n",
              "        element.appendChild(docLink);\n",
              "      }\n",
              "    </script>\n",
              "  </div>\n",
              "\n",
              "\n",
              "<div id=\"df-29ceb7e3-415d-4ba3-a953-0b32a1371561\">\n",
              "  <button class=\"colab-df-quickchart\" onclick=\"quickchart('df-29ceb7e3-415d-4ba3-a953-0b32a1371561')\"\n",
              "            title=\"Suggest charts\"\n",
              "            style=\"display:none;\">\n",
              "\n",
              "<svg xmlns=\"http://www.w3.org/2000/svg\" height=\"24px\"viewBox=\"0 0 24 24\"\n",
              "     width=\"24px\">\n",
              "    <g>\n",
              "        <path d=\"M19 3H5c-1.1 0-2 .9-2 2v14c0 1.1.9 2 2 2h14c1.1 0 2-.9 2-2V5c0-1.1-.9-2-2-2zM9 17H7v-7h2v7zm4 0h-2V7h2v10zm4 0h-2v-4h2v4z\"/>\n",
              "    </g>\n",
              "</svg>\n",
              "  </button>\n",
              "\n",
              "<style>\n",
              "  .colab-df-quickchart {\n",
              "      --bg-color: #E8F0FE;\n",
              "      --fill-color: #1967D2;\n",
              "      --hover-bg-color: #E2EBFA;\n",
              "      --hover-fill-color: #174EA6;\n",
              "      --disabled-fill-color: #AAA;\n",
              "      --disabled-bg-color: #DDD;\n",
              "  }\n",
              "\n",
              "  [theme=dark] .colab-df-quickchart {\n",
              "      --bg-color: #3B4455;\n",
              "      --fill-color: #D2E3FC;\n",
              "      --hover-bg-color: #434B5C;\n",
              "      --hover-fill-color: #FFFFFF;\n",
              "      --disabled-bg-color: #3B4455;\n",
              "      --disabled-fill-color: #666;\n",
              "  }\n",
              "\n",
              "  .colab-df-quickchart {\n",
              "    background-color: var(--bg-color);\n",
              "    border: none;\n",
              "    border-radius: 50%;\n",
              "    cursor: pointer;\n",
              "    display: none;\n",
              "    fill: var(--fill-color);\n",
              "    height: 32px;\n",
              "    padding: 0;\n",
              "    width: 32px;\n",
              "  }\n",
              "\n",
              "  .colab-df-quickchart:hover {\n",
              "    background-color: var(--hover-bg-color);\n",
              "    box-shadow: 0 1px 2px rgba(60, 64, 67, 0.3), 0 1px 3px 1px rgba(60, 64, 67, 0.15);\n",
              "    fill: var(--button-hover-fill-color);\n",
              "  }\n",
              "\n",
              "  .colab-df-quickchart-complete:disabled,\n",
              "  .colab-df-quickchart-complete:disabled:hover {\n",
              "    background-color: var(--disabled-bg-color);\n",
              "    fill: var(--disabled-fill-color);\n",
              "    box-shadow: none;\n",
              "  }\n",
              "\n",
              "  .colab-df-spinner {\n",
              "    border: 2px solid var(--fill-color);\n",
              "    border-color: transparent;\n",
              "    border-bottom-color: var(--fill-color);\n",
              "    animation:\n",
              "      spin 1s steps(1) infinite;\n",
              "  }\n",
              "\n",
              "  @keyframes spin {\n",
              "    0% {\n",
              "      border-color: transparent;\n",
              "      border-bottom-color: var(--fill-color);\n",
              "      border-left-color: var(--fill-color);\n",
              "    }\n",
              "    20% {\n",
              "      border-color: transparent;\n",
              "      border-left-color: var(--fill-color);\n",
              "      border-top-color: var(--fill-color);\n",
              "    }\n",
              "    30% {\n",
              "      border-color: transparent;\n",
              "      border-left-color: var(--fill-color);\n",
              "      border-top-color: var(--fill-color);\n",
              "      border-right-color: var(--fill-color);\n",
              "    }\n",
              "    40% {\n",
              "      border-color: transparent;\n",
              "      border-right-color: var(--fill-color);\n",
              "      border-top-color: var(--fill-color);\n",
              "    }\n",
              "    60% {\n",
              "      border-color: transparent;\n",
              "      border-right-color: var(--fill-color);\n",
              "    }\n",
              "    80% {\n",
              "      border-color: transparent;\n",
              "      border-right-color: var(--fill-color);\n",
              "      border-bottom-color: var(--fill-color);\n",
              "    }\n",
              "    90% {\n",
              "      border-color: transparent;\n",
              "      border-bottom-color: var(--fill-color);\n",
              "    }\n",
              "  }\n",
              "</style>\n",
              "\n",
              "  <script>\n",
              "    async function quickchart(key) {\n",
              "      const quickchartButtonEl =\n",
              "        document.querySelector('#' + key + ' button');\n",
              "      quickchartButtonEl.disabled = true;  // To prevent multiple clicks.\n",
              "      quickchartButtonEl.classList.add('colab-df-spinner');\n",
              "      try {\n",
              "        const charts = await google.colab.kernel.invokeFunction(\n",
              "            'suggestCharts', [key], {});\n",
              "      } catch (error) {\n",
              "        console.error('Error during call to suggestCharts:', error);\n",
              "      }\n",
              "      quickchartButtonEl.classList.remove('colab-df-spinner');\n",
              "      quickchartButtonEl.classList.add('colab-df-quickchart-complete');\n",
              "    }\n",
              "    (() => {\n",
              "      let quickchartButtonEl =\n",
              "        document.querySelector('#df-29ceb7e3-415d-4ba3-a953-0b32a1371561 button');\n",
              "      quickchartButtonEl.style.display =\n",
              "        google.colab.kernel.accessAllowed ? 'block' : 'none';\n",
              "    })();\n",
              "  </script>\n",
              "</div>\n",
              "    </div>\n",
              "  </div>\n"
            ],
            "application/vnd.google.colaboratory.intrinsic+json": {
              "type": "dataframe",
              "variable_name": "features",
              "summary": "{\n  \"name\": \"features\",\n  \"rows\": 780,\n  \"fields\": [\n    {\n      \"column\": \"u-g\",\n      \"properties\": {\n        \"dtype\": \"number\",\n        \"std\": 0.6802411828127287,\n        \"min\": -8.20235,\n        \"max\": 10.62404,\n        \"num_unique_values\": 778,\n        \"samples\": [\n          1.2701100000000025,\n          1.9628999999999976,\n          1.2575900000000004\n        ],\n        \"semantic_type\": \"\",\n        \"description\": \"\"\n      }\n    },\n    {\n      \"column\": \"g-r\",\n      \"properties\": {\n        \"dtype\": \"number\",\n        \"std\": 0.3339863093568199,\n        \"min\": -4.708600000000001,\n        \"max\": 1.5391700000000021,\n        \"num_unique_values\": 780,\n        \"samples\": [\n          0.5050699999999999,\n          0.6847599999999989,\n          0.35076000000000107\n        ],\n        \"semantic_type\": \"\",\n        \"description\": \"\"\n      }\n    },\n    {\n      \"column\": \"r-i\",\n      \"properties\": {\n        \"dtype\": \"number\",\n        \"std\": 0.09490179168729385,\n        \"min\": -0.630589999999998,\n        \"max\": 1.3908400000000007,\n        \"num_unique_values\": 776,\n        \"samples\": [\n          0.42179000000000144,\n          0.40371000000000024,\n          0.4024200000000011\n        ],\n        \"semantic_type\": \"\",\n        \"description\": \"\"\n      }\n    },\n    {\n      \"column\": \"i-z\",\n      \"properties\": {\n        \"dtype\": \"number\",\n        \"std\": 0.43436930730905415,\n        \"min\": -7.698339999999998,\n        \"max\": 4.8793299999999995,\n        \"num_unique_values\": 770,\n        \"samples\": [\n          0.20819999999999972,\n          0.3356400000000015,\n          0.2223600000000001\n        ],\n        \"semantic_type\": \"\",\n        \"description\": \"\"\n      }\n    },\n    {\n      \"column\": \"ecc\",\n      \"properties\": {\n        \"dtype\": \"number\",\n        \"std\": 0.17101032432451688,\n        \"min\": 0.2268939,\n        \"max\": 0.999812,\n        \"num_unique_values\": 780,\n        \"samples\": [\n          0.8168555,\n          0.7072662,\n          0.6651152\n        ],\n        \"semantic_type\": \"\",\n        \"description\": \"\"\n      }\n    },\n    {\n      \"column\": \"m4_u\",\n      \"properties\": {\n        \"dtype\": \"number\",\n        \"std\": 619.4543959860013,\n        \"min\": -9999.0,\n        \"max\": 26.00938,\n        \"num_unique_values\": 778,\n        \"samples\": [\n          2.19869,\n          2.213931,\n          2.28284\n        ],\n        \"semantic_type\": \"\",\n        \"description\": \"\"\n      }\n    },\n    {\n      \"column\": \"m4_g\",\n      \"properties\": {\n        \"dtype\": \"number\",\n        \"std\": 358.1048419577499,\n        \"min\": -9999.0,\n        \"max\": 2.724017,\n        \"num_unique_values\": 779,\n        \"samples\": [\n          2.250672,\n          2.494824,\n          2.391655\n        ],\n        \"semantic_type\": \"\",\n        \"description\": \"\"\n      }\n    },\n    {\n      \"column\": \"m4_r\",\n      \"properties\": {\n        \"dtype\": \"number\",\n        \"std\": 506.11363472801435,\n        \"min\": -9999.0,\n        \"max\": 2.737767,\n        \"num_unique_values\": 779,\n        \"samples\": [\n          2.443063,\n          2.642474,\n          2.478868\n        ],\n        \"semantic_type\": \"\",\n        \"description\": \"\"\n      }\n    },\n    {\n      \"column\": \"m4_i\",\n      \"properties\": {\n        \"dtype\": \"number\",\n        \"std\": 619.4626616402447,\n        \"min\": -9999.0,\n        \"max\": 2.728628,\n        \"num_unique_values\": 777,\n        \"samples\": [\n          2.518643,\n          2.263255,\n          2.454253\n        ],\n        \"semantic_type\": \"\",\n        \"description\": \"\"\n      }\n    },\n    {\n      \"column\": \"m4_z\",\n      \"properties\": {\n        \"dtype\": \"number\",\n        \"std\": 714.8335970071514,\n        \"min\": -9999.0,\n        \"max\": 2.730472,\n        \"num_unique_values\": 775,\n        \"samples\": [\n          2.359071,\n          2.535141,\n          2.427377\n        ],\n        \"semantic_type\": \"\",\n        \"description\": \"\"\n      }\n    },\n    {\n      \"column\": \"R50/R90_u\",\n      \"properties\": {\n        \"dtype\": \"number\",\n        \"std\": 0.11663698573114256,\n        \"min\": 0.09014586568693947,\n        \"max\": 1.0,\n        \"num_unique_values\": 777,\n        \"samples\": [\n          0.6037315580167624,\n          0.5493164819133215,\n          0.5538302520351095\n        ],\n        \"semantic_type\": \"\",\n        \"description\": \"\"\n      }\n    },\n    {\n      \"column\": \"R50/R90_r\",\n      \"properties\": {\n        \"dtype\": \"number\",\n        \"std\": 0.0831449038130222,\n        \"min\": 0.1187715956543745,\n        \"max\": 0.8687146675388523,\n        \"num_unique_values\": 780,\n        \"samples\": [\n          0.5074307966380414,\n          0.44837889924000857,\n          0.42198274961724697\n        ],\n        \"semantic_type\": \"\",\n        \"description\": \"\"\n      }\n    },\n    {\n      \"column\": \"R50/R90_z\",\n      \"properties\": {\n        \"dtype\": \"number\",\n        \"std\": 0.09577541372128875,\n        \"min\": 0.168760795763578,\n        \"max\": 1.0,\n        \"num_unique_values\": 778,\n        \"samples\": [\n          0.4810153892963501,\n          0.47202113621764363,\n          0.5058425558718274\n        ],\n        \"semantic_type\": \"\",\n        \"description\": \"\"\n      }\n    }\n  ]\n}"
            }
          },
          "metadata": {},
          "execution_count": 25
        }
      ]
    },
    {
      "cell_type": "code",
      "source": [
        "targets.head()"
      ],
      "metadata": {
        "colab": {
          "base_uri": "https://localhost:8080/",
          "height": 206
        },
        "id": "_PKPE85aIcE7",
        "outputId": "3959134d-5a4b-429e-be6d-171b38161a30"
      },
      "execution_count": 23,
      "outputs": [
        {
          "output_type": "execute_result",
          "data": {
            "text/plain": [
              "    class\n",
              "0  merger\n",
              "1  merger\n",
              "2  merger\n",
              "3  merger\n",
              "4  merger"
            ],
            "text/html": [
              "\n",
              "  <div id=\"df-33b4f6d1-c1eb-486d-95b6-1ec03383fd2e\" class=\"colab-df-container\">\n",
              "    <div>\n",
              "<style scoped>\n",
              "    .dataframe tbody tr th:only-of-type {\n",
              "        vertical-align: middle;\n",
              "    }\n",
              "\n",
              "    .dataframe tbody tr th {\n",
              "        vertical-align: top;\n",
              "    }\n",
              "\n",
              "    .dataframe thead th {\n",
              "        text-align: right;\n",
              "    }\n",
              "</style>\n",
              "<table border=\"1\" class=\"dataframe\">\n",
              "  <thead>\n",
              "    <tr style=\"text-align: right;\">\n",
              "      <th></th>\n",
              "      <th>class</th>\n",
              "    </tr>\n",
              "  </thead>\n",
              "  <tbody>\n",
              "    <tr>\n",
              "      <th>0</th>\n",
              "      <td>merger</td>\n",
              "    </tr>\n",
              "    <tr>\n",
              "      <th>1</th>\n",
              "      <td>merger</td>\n",
              "    </tr>\n",
              "    <tr>\n",
              "      <th>2</th>\n",
              "      <td>merger</td>\n",
              "    </tr>\n",
              "    <tr>\n",
              "      <th>3</th>\n",
              "      <td>merger</td>\n",
              "    </tr>\n",
              "    <tr>\n",
              "      <th>4</th>\n",
              "      <td>merger</td>\n",
              "    </tr>\n",
              "  </tbody>\n",
              "</table>\n",
              "</div>\n",
              "    <div class=\"colab-df-buttons\">\n",
              "\n",
              "  <div class=\"colab-df-container\">\n",
              "    <button class=\"colab-df-convert\" onclick=\"convertToInteractive('df-33b4f6d1-c1eb-486d-95b6-1ec03383fd2e')\"\n",
              "            title=\"Convert this dataframe to an interactive table.\"\n",
              "            style=\"display:none;\">\n",
              "\n",
              "  <svg xmlns=\"http://www.w3.org/2000/svg\" height=\"24px\" viewBox=\"0 -960 960 960\">\n",
              "    <path d=\"M120-120v-720h720v720H120Zm60-500h600v-160H180v160Zm220 220h160v-160H400v160Zm0 220h160v-160H400v160ZM180-400h160v-160H180v160Zm440 0h160v-160H620v160ZM180-180h160v-160H180v160Zm440 0h160v-160H620v160Z\"/>\n",
              "  </svg>\n",
              "    </button>\n",
              "\n",
              "  <style>\n",
              "    .colab-df-container {\n",
              "      display:flex;\n",
              "      gap: 12px;\n",
              "    }\n",
              "\n",
              "    .colab-df-convert {\n",
              "      background-color: #E8F0FE;\n",
              "      border: none;\n",
              "      border-radius: 50%;\n",
              "      cursor: pointer;\n",
              "      display: none;\n",
              "      fill: #1967D2;\n",
              "      height: 32px;\n",
              "      padding: 0 0 0 0;\n",
              "      width: 32px;\n",
              "    }\n",
              "\n",
              "    .colab-df-convert:hover {\n",
              "      background-color: #E2EBFA;\n",
              "      box-shadow: 0px 1px 2px rgba(60, 64, 67, 0.3), 0px 1px 3px 1px rgba(60, 64, 67, 0.15);\n",
              "      fill: #174EA6;\n",
              "    }\n",
              "\n",
              "    .colab-df-buttons div {\n",
              "      margin-bottom: 4px;\n",
              "    }\n",
              "\n",
              "    [theme=dark] .colab-df-convert {\n",
              "      background-color: #3B4455;\n",
              "      fill: #D2E3FC;\n",
              "    }\n",
              "\n",
              "    [theme=dark] .colab-df-convert:hover {\n",
              "      background-color: #434B5C;\n",
              "      box-shadow: 0px 1px 3px 1px rgba(0, 0, 0, 0.15);\n",
              "      filter: drop-shadow(0px 1px 2px rgba(0, 0, 0, 0.3));\n",
              "      fill: #FFFFFF;\n",
              "    }\n",
              "  </style>\n",
              "\n",
              "    <script>\n",
              "      const buttonEl =\n",
              "        document.querySelector('#df-33b4f6d1-c1eb-486d-95b6-1ec03383fd2e button.colab-df-convert');\n",
              "      buttonEl.style.display =\n",
              "        google.colab.kernel.accessAllowed ? 'block' : 'none';\n",
              "\n",
              "      async function convertToInteractive(key) {\n",
              "        const element = document.querySelector('#df-33b4f6d1-c1eb-486d-95b6-1ec03383fd2e');\n",
              "        const dataTable =\n",
              "          await google.colab.kernel.invokeFunction('convertToInteractive',\n",
              "                                                    [key], {});\n",
              "        if (!dataTable) return;\n",
              "\n",
              "        const docLinkHtml = 'Like what you see? Visit the ' +\n",
              "          '<a target=\"_blank\" href=https://colab.research.google.com/notebooks/data_table.ipynb>data table notebook</a>'\n",
              "          + ' to learn more about interactive tables.';\n",
              "        element.innerHTML = '';\n",
              "        dataTable['output_type'] = 'display_data';\n",
              "        await google.colab.output.renderOutput(dataTable, element);\n",
              "        const docLink = document.createElement('div');\n",
              "        docLink.innerHTML = docLinkHtml;\n",
              "        element.appendChild(docLink);\n",
              "      }\n",
              "    </script>\n",
              "  </div>\n",
              "\n",
              "\n",
              "<div id=\"df-fe69a114-d0d0-4a34-9d48-a85f03106115\">\n",
              "  <button class=\"colab-df-quickchart\" onclick=\"quickchart('df-fe69a114-d0d0-4a34-9d48-a85f03106115')\"\n",
              "            title=\"Suggest charts\"\n",
              "            style=\"display:none;\">\n",
              "\n",
              "<svg xmlns=\"http://www.w3.org/2000/svg\" height=\"24px\"viewBox=\"0 0 24 24\"\n",
              "     width=\"24px\">\n",
              "    <g>\n",
              "        <path d=\"M19 3H5c-1.1 0-2 .9-2 2v14c0 1.1.9 2 2 2h14c1.1 0 2-.9 2-2V5c0-1.1-.9-2-2-2zM9 17H7v-7h2v7zm4 0h-2V7h2v10zm4 0h-2v-4h2v4z\"/>\n",
              "    </g>\n",
              "</svg>\n",
              "  </button>\n",
              "\n",
              "<style>\n",
              "  .colab-df-quickchart {\n",
              "      --bg-color: #E8F0FE;\n",
              "      --fill-color: #1967D2;\n",
              "      --hover-bg-color: #E2EBFA;\n",
              "      --hover-fill-color: #174EA6;\n",
              "      --disabled-fill-color: #AAA;\n",
              "      --disabled-bg-color: #DDD;\n",
              "  }\n",
              "\n",
              "  [theme=dark] .colab-df-quickchart {\n",
              "      --bg-color: #3B4455;\n",
              "      --fill-color: #D2E3FC;\n",
              "      --hover-bg-color: #434B5C;\n",
              "      --hover-fill-color: #FFFFFF;\n",
              "      --disabled-bg-color: #3B4455;\n",
              "      --disabled-fill-color: #666;\n",
              "  }\n",
              "\n",
              "  .colab-df-quickchart {\n",
              "    background-color: var(--bg-color);\n",
              "    border: none;\n",
              "    border-radius: 50%;\n",
              "    cursor: pointer;\n",
              "    display: none;\n",
              "    fill: var(--fill-color);\n",
              "    height: 32px;\n",
              "    padding: 0;\n",
              "    width: 32px;\n",
              "  }\n",
              "\n",
              "  .colab-df-quickchart:hover {\n",
              "    background-color: var(--hover-bg-color);\n",
              "    box-shadow: 0 1px 2px rgba(60, 64, 67, 0.3), 0 1px 3px 1px rgba(60, 64, 67, 0.15);\n",
              "    fill: var(--button-hover-fill-color);\n",
              "  }\n",
              "\n",
              "  .colab-df-quickchart-complete:disabled,\n",
              "  .colab-df-quickchart-complete:disabled:hover {\n",
              "    background-color: var(--disabled-bg-color);\n",
              "    fill: var(--disabled-fill-color);\n",
              "    box-shadow: none;\n",
              "  }\n",
              "\n",
              "  .colab-df-spinner {\n",
              "    border: 2px solid var(--fill-color);\n",
              "    border-color: transparent;\n",
              "    border-bottom-color: var(--fill-color);\n",
              "    animation:\n",
              "      spin 1s steps(1) infinite;\n",
              "  }\n",
              "\n",
              "  @keyframes spin {\n",
              "    0% {\n",
              "      border-color: transparent;\n",
              "      border-bottom-color: var(--fill-color);\n",
              "      border-left-color: var(--fill-color);\n",
              "    }\n",
              "    20% {\n",
              "      border-color: transparent;\n",
              "      border-left-color: var(--fill-color);\n",
              "      border-top-color: var(--fill-color);\n",
              "    }\n",
              "    30% {\n",
              "      border-color: transparent;\n",
              "      border-left-color: var(--fill-color);\n",
              "      border-top-color: var(--fill-color);\n",
              "      border-right-color: var(--fill-color);\n",
              "    }\n",
              "    40% {\n",
              "      border-color: transparent;\n",
              "      border-right-color: var(--fill-color);\n",
              "      border-top-color: var(--fill-color);\n",
              "    }\n",
              "    60% {\n",
              "      border-color: transparent;\n",
              "      border-right-color: var(--fill-color);\n",
              "    }\n",
              "    80% {\n",
              "      border-color: transparent;\n",
              "      border-right-color: var(--fill-color);\n",
              "      border-bottom-color: var(--fill-color);\n",
              "    }\n",
              "    90% {\n",
              "      border-color: transparent;\n",
              "      border-bottom-color: var(--fill-color);\n",
              "    }\n",
              "  }\n",
              "</style>\n",
              "\n",
              "  <script>\n",
              "    async function quickchart(key) {\n",
              "      const quickchartButtonEl =\n",
              "        document.querySelector('#' + key + ' button');\n",
              "      quickchartButtonEl.disabled = true;  // To prevent multiple clicks.\n",
              "      quickchartButtonEl.classList.add('colab-df-spinner');\n",
              "      try {\n",
              "        const charts = await google.colab.kernel.invokeFunction(\n",
              "            'suggestCharts', [key], {});\n",
              "      } catch (error) {\n",
              "        console.error('Error during call to suggestCharts:', error);\n",
              "      }\n",
              "      quickchartButtonEl.classList.remove('colab-df-spinner');\n",
              "      quickchartButtonEl.classList.add('colab-df-quickchart-complete');\n",
              "    }\n",
              "    (() => {\n",
              "      let quickchartButtonEl =\n",
              "        document.querySelector('#df-fe69a114-d0d0-4a34-9d48-a85f03106115 button');\n",
              "      quickchartButtonEl.style.display =\n",
              "        google.colab.kernel.accessAllowed ? 'block' : 'none';\n",
              "    })();\n",
              "  </script>\n",
              "</div>\n",
              "    </div>\n",
              "  </div>\n"
            ],
            "application/vnd.google.colaboratory.intrinsic+json": {
              "type": "dataframe",
              "variable_name": "targets",
              "summary": "{\n  \"name\": \"targets\",\n  \"rows\": 780,\n  \"fields\": [\n    {\n      \"column\": \"class\",\n      \"properties\": {\n        \"dtype\": \"category\",\n        \"num_unique_values\": 3,\n        \"samples\": [\n          \"merger\",\n          \"elliptical\",\n          \"spiral\"\n        ],\n        \"semantic_type\": \"\",\n        \"description\": \"\"\n      }\n    }\n  ]\n}"
            }
          },
          "metadata": {},
          "execution_count": 23
        }
      ]
    },
    {
      "cell_type": "code",
      "source": [
        "print(features.shape)\n",
        "print(targets.shape)"
      ],
      "metadata": {
        "colab": {
          "base_uri": "https://localhost:8080/"
        },
        "id": "bnrJ8MtAImkE",
        "outputId": "019d9449-fdef-4880-dbf6-4fd9e9e16eeb"
      },
      "execution_count": 27,
      "outputs": [
        {
          "output_type": "stream",
          "name": "stdout",
          "text": [
            "(780, 13)\n",
            "(780, 1)\n"
          ]
        }
      ]
    },
    {
      "cell_type": "markdown",
      "metadata": {
        "id": "vnePPYpJNWoY"
      },
      "source": [
        "#### PART 2 - Train and run a decision tree model *(40 pts.)*\n",
        "\n",
        "Write a function ```predict_class``` that will train and validate a model that predicts a galaxy's class from its photometric properties. In particular, it should do the following:\n",
        "1. Split the dataset into a training and test dataset using an 80:20 split.\n",
        "2. Train the input model using the training dataset features and targets.\n",
        "3. Return two arrays-- the predicted and actual class of the test galaxies.\n",
        "\n",
        "Here's an example of how your function should work:\n",
        "```\n",
        "import numpy as np\n",
        "from sklearn.tree import DecisionTreeClassifier\n",
        "\n",
        "data = np.load(file_path + 'galaxy_catalogue.npy')\n",
        "predicted_class, actual_class = predict_class(data)\n",
        "\n",
        "for i in np.arange(3):\n",
        "   print(\"%d, %s, %s\" & (i, predicted_class[i], actual_class[i]))\n",
        "```"
      ]
    },
    {
      "cell_type": "code",
      "metadata": {
        "id": "ydeUh_Tzvf0n",
        "colab": {
          "base_uri": "https://localhost:8080/",
          "height": 122
        },
        "outputId": "2dd953d7-400f-42bc-ccde-802624878148"
      },
      "source": [
        "from sklearn.tree import DecisionTreeClassifier\n",
        "\n",
        "\"\"\"\n",
        "The below function predict_class(features, targets) works, but for\n",
        "practical purposes it is worse to define it as a function considering\n",
        "there are a lot of useful sklearn methods available.\n",
        "It's unlikely one only needs the predicted_class and actual_class in analyzing\n",
        "the model, so I will not use the predict_class function.\n",
        "\n",
        "def predict_class(features, targets):\n",
        "  x_train, x_test, y_train, y_test = train_test_split(features, targets, test_size=0.2, random_state=42)\n",
        "\n",
        "  # Create and train decision tree classifier\n",
        "  tree_clf = DecisionTreeClassifier()\n",
        "  tree_clf.fit(x_train, y_train)\n",
        "\n",
        "  predicted_class = tree_clf.predict(x_test)\n",
        "  actual_class = y_test[\"class\"].to_numpy()\n",
        "\n",
        "  return predicted_class, actual_class\n",
        "\n",
        "predicted_class, actual_class = predict_class(features, targets)\n",
        "\n",
        "\n",
        "for i in np.arange(3):\n",
        "  print(\"%d, %s, %s\" % (i, predicted_class[i], actual_class[i]))\n",
        "\n",
        "\"\"\""
      ],
      "execution_count": 8,
      "outputs": [
        {
          "output_type": "execute_result",
          "data": {
            "text/plain": [
              "'\\nThe below function predict_class(features, targets) works, but for \\npractical purposes it is worse to define it as a function considering\\nthere are a lot of useful sklearn methods available. \\nIt\\'s unlikely one only needs the predicted_class and actual_class in analyzing\\nthe model, so I will not use the predict_class function.\\n\\ndef predict_class(features, targets):\\n  x_train, x_test, y_train, y_test = train_test_split(features, targets, test_size=0.2, random_state=42)\\n\\n  # Create and train decision tree classifier\\n  tree_clf = DecisionTreeClassifier()\\n  tree_clf.fit(x_train, y_train)    \\n\\n  predicted_class = tree_clf.predict(x_test)     \\n  actual_class = y_test[\"class\"].to_numpy()   \\n\\n  return predicted_class, actual_class\\n\\npredicted_class, actual_class = predict_class(features, targets)\\n\\n\\nfor i in np.arange(3):\\n  print(\"%d, %s, %s\" % (i, predicted_class[i], actual_class[i]))\\n\\n'"
            ],
            "application/vnd.google.colaboratory.intrinsic+json": {
              "type": "string"
            }
          },
          "metadata": {},
          "execution_count": 8
        }
      ]
    },
    {
      "cell_type": "code",
      "source": [
        "x_train, x_test, y_train, y_test = train_test_split(features, targets, test_size=0.2, random_state=42)    # Split dataset\n",
        "\n",
        "tree_clf = DecisionTreeClassifier()   # Create classifier\n",
        "tree_clf.fit(x_train, y_train)\n",
        "\n",
        "# Apply decision tree classifier\n",
        "predicted_class = tree_clf.predict(x_test)\n",
        "actual = y_test.copy()\n",
        "actual_class = actual[\"class\"].to_numpy()\n",
        "\n",
        "for i in np.arange(3):\n",
        "  print(\"%d, %s, %s\" % (i, predicted_class[i], actual_class[i]))"
      ],
      "metadata": {
        "colab": {
          "base_uri": "https://localhost:8080/"
        },
        "id": "Lngij8ny-i1O",
        "outputId": "dc54d4d7-950c-4127-e04d-44c5b4fbee82"
      },
      "execution_count": 9,
      "outputs": [
        {
          "output_type": "stream",
          "name": "stdout",
          "text": [
            "0, spiral, spiral\n",
            "1, spiral, spiral\n",
            "2, merger, spiral\n"
          ]
        }
      ]
    },
    {
      "cell_type": "markdown",
      "metadata": {
        "id": "hlSp5k92OjuM"
      },
      "source": [
        "#### PART 3 - Confusion matrix and accuracy *(40 pts.)*\n",
        "\n",
        "1. Get the confusion matrix for your test dataset-- this is a 3 x 3 matrix with the counts for each combination of actual and predicted class. *(25 pts.)*\n",
        "\n",
        "2. Get the test accuracy of your decision tree classifer, defined as the number of correct predictions divided by the total number of predictions. *(15 pts.)*"
      ]
    },
    {
      "cell_type": "code",
      "metadata": {
        "id": "OZXvnOSLdH_k",
        "colab": {
          "base_uri": "https://localhost:8080/"
        },
        "outputId": "083e2d55-0e61-490c-a291-eee9035eb98d"
      },
      "source": [
        "from sklearn.metrics import confusion_matrix\n",
        "\n",
        "cm = confusion_matrix(actual_class, predicted_class)  # Create confusion matrix\n",
        "\n",
        "print(cm)\n",
        "print(f\"Accuracy: {np.sum(np.diag(cm)) / np.sum(cm) * 100}%\" )"
      ],
      "execution_count": 10,
      "outputs": [
        {
          "output_type": "stream",
          "name": "stdout",
          "text": [
            "[[50  5  0]\n",
            " [ 4 36  9]\n",
            " [ 1 17 34]]\n",
            "Accuracy: 76.92307692307693%\n"
          ]
        }
      ]
    },
    {
      "cell_type": "markdown",
      "source": [
        "## Why use a confusion matrix?\n",
        "\n",
        "Vague \"accuracy\" is not a good metric for measuring the performance of a classifier compared to a regression model, for example. To show this, we can write the following:"
      ],
      "metadata": {
        "id": "o5WlRxSG4PZ7"
      }
    },
    {
      "cell_type": "code",
      "source": [
        "from sklearn.base import BaseEstimator\n",
        "\n",
        "y_train_merger = (y_train.to_numpy() == \"merger\")\n",
        "y_test_merger = (y_test.to_numpy() == \"merger\")\n",
        "\n",
        "class NotMerger(BaseEstimator):\n",
        "  def fit(self, X, y=None):\n",
        "    return self\n",
        "  def predict(self, X):\n",
        "    return np.zeros((len(X), 1), dtype=bool)"
      ],
      "metadata": {
        "id": "YGimF6Z74g-n"
      },
      "execution_count": 11,
      "outputs": []
    },
    {
      "cell_type": "markdown",
      "source": [
        "For discussion, we want a binary dataset to train a model which can determine whether a galaxy is a \"merger\" or not.\n",
        "To do this, we modified the dataset to consist of only \"True\" and \"False\" values pertaining to a merger and other types respectively.\n",
        "\n",
        "Afterwards, we created a \"null\" classifier that returns \"False\" for all data it makes predictions on."
      ],
      "metadata": {
        "id": "oOWqiLGS7YjX"
      }
    },
    {
      "cell_type": "code",
      "source": [
        "from sklearn.model_selection import cross_val_score\n",
        "\n",
        "not_merger_clf = NotMerger()\n",
        "cross_val_score(not_merger_clf, x_train, y_train_merger, cv=3, scoring=\"accuracy\")"
      ],
      "metadata": {
        "colab": {
          "base_uri": "https://localhost:8080/"
        },
        "id": "qSqDMm2n8r7-",
        "outputId": "ffbaaf7f-1db2-4379-f74a-1c04a58a5e75"
      },
      "execution_count": 12,
      "outputs": [
        {
          "output_type": "execute_result",
          "data": {
            "text/plain": [
              "array([0.625     , 0.69230769, 0.66826923])"
            ]
          },
          "metadata": {},
          "execution_count": 12
        }
      ]
    },
    {
      "cell_type": "markdown",
      "source": [
        "Above we trained the model and asked it to predict whether a galaxy is a merger or not and achieved a $62$% accuracy on the low end, and almost $70$% on the higher end. Indeed, the number of mergers in the dataset is $1/3$, so a crude binary model as above can achieve an over $60$% accuracy in the dataset (the difference is due to the cross-validation splitting). We expect that such a model can achieve even higher \"accuracies\" for binary classifiers with more samples and classification types."
      ],
      "metadata": {
        "id": "1ik8QCCY_iYP"
      }
    },
    {
      "cell_type": "code",
      "source": [
        "targets[\"class\"].value_counts()"
      ],
      "metadata": {
        "colab": {
          "base_uri": "https://localhost:8080/"
        },
        "id": "ecTE1rw3ARDr",
        "outputId": "4085a626-2465-4146-81a6-0ac8be7bf4cf"
      },
      "execution_count": 13,
      "outputs": [
        {
          "output_type": "execute_result",
          "data": {
            "text/plain": [
              "merger        260\n",
              "elliptical    260\n",
              "spiral        260\n",
              "Name: class, dtype: int64"
            ]
          },
          "metadata": {},
          "execution_count": 13
        }
      ]
    },
    {
      "cell_type": "markdown",
      "source": [
        "To address such pecularities, we use a confusion matrix to determine what types are often misclassified as seen below, thus providing a better metric for a classifier model."
      ],
      "metadata": {
        "id": "-0ToZIIDAWZe"
      }
    },
    {
      "cell_type": "code",
      "source": [
        "from sklearn.metrics import ConfusionMatrixDisplay\n",
        "\n",
        "disp = ConfusionMatrixDisplay(confusion_matrix=cm,\n",
        "                              display_labels=tree_clf.classes_, )\n",
        "disp.plot()"
      ],
      "metadata": {
        "colab": {
          "base_uri": "https://localhost:8080/",
          "height": 472
        },
        "id": "H7w8Wi-bBMKf",
        "outputId": "ff8d8afc-1e13-4bbf-8dda-7bfe72ff9ce5"
      },
      "execution_count": 14,
      "outputs": [
        {
          "output_type": "execute_result",
          "data": {
            "text/plain": [
              "<sklearn.metrics._plot.confusion_matrix.ConfusionMatrixDisplay at 0x7a4467edbe80>"
            ]
          },
          "metadata": {},
          "execution_count": 14
        },
        {
          "output_type": "display_data",
          "data": {
            "text/plain": [
              "<Figure size 640x480 with 2 Axes>"
            ],
            "image/png": "[encoded data removed]"
          },
          "metadata": {}
        }
      ]
    },
    {
      "cell_type": "markdown",
      "source": [
        "We can get a more \"complete\" confusion matrix by using cross validation. The sklearn module has cross_val_predict to split and train the dataset with a specified train fold and applying it to a different (unseen) test split each time. Let's try 5 folds.\n"
      ],
      "metadata": {
        "id": "IDKqyCm2Bq4x"
      }
    },
    {
      "cell_type": "code",
      "source": [
        "from sklearn.model_selection import cross_val_predict\n",
        "from matplotlib import pyplot as plt\n",
        "\n",
        "y_train_pred = cross_val_predict(tree_clf, x_train, y_train, cv=5)\n",
        "\n",
        "fig, ax = plt.subplots(nrows=1, ncols=2, figsize=(11, 4))\n",
        "plt.rc(\"font\", size=9)\n",
        "\n",
        "ConfusionMatrixDisplay.from_predictions(y_train, y_train_pred, ax=ax[0])\n",
        "ax[0].set_title(\"Confusion Matrix\")\n",
        "\n",
        "# Display in terms of percentage of total\n",
        "ConfusionMatrixDisplay.from_predictions(y_train, y_train_pred, normalize=\"true\",\n",
        "                                        values_format=\".0%\", ax=ax[1])\n",
        "ax[1].set_title(\"CM Normalized by Row\")"
      ],
      "metadata": {
        "colab": {
          "base_uri": "https://localhost:8080/",
          "height": 425
        },
        "id": "JL0hI89JDoft",
        "outputId": "30b23e9a-0514-43fe-a320-866da31397e6"
      },
      "execution_count": 15,
      "outputs": [
        {
          "output_type": "execute_result",
          "data": {
            "text/plain": [
              "Text(0.5, 1.0, 'CM Normalized by Row')"
            ]
          },
          "metadata": {},
          "execution_count": 15
        },
        {
          "output_type": "display_data",
          "data": {
            "text/plain": [
              "<Figure size 1100x400 with 4 Axes>"
            ],
            "image/png": "[encoded data removed]"
          },
          "metadata": {}
        }
      ]
    },
    {
      "cell_type": "markdown",
      "source": [
        "## Analyzing errors\n",
        "\n",
        "In the above confusion matrix, we observe that elliptical galaxies are almost never mistaken for a spiral and vice versa. On the other hand, elliptical galaxies are sometimes mistaken for mergers, around a fifth of all spiral galaxies were mistaken to be a merger (and almost half for the non-cross-validated confusion matrix). To see why this is, we can inspect the features of misclassified spiral data and compare it with the features of true spirals and mergers."
      ],
      "metadata": {
        "id": "1E1WCndcFfjU"
      }
    },
    {
      "cell_type": "code",
      "source": [
        "# Create dataframe of misclassified data\n",
        "\n",
        "misclassified = np.where(actual_class != predicted_class)\n",
        "\n",
        "misclassified_df = x_test.iloc[misclassified]\n",
        "misclassified_df[\"class\"] = y_test.iloc[misclassified]\n",
        "misclassified_df[\"misclass\"] = predicted_class[actual_class != predicted_class]   # Create new column for misclassified data\n",
        "\n",
        "spiral_misclass = misclassified_df.iloc[np.where(misclassified_df[\"class\"] == \"spiral\")]\n",
        "merger_misclass = misclassified_df.iloc[np.where(misclassified_df[\"class\"] == \"merger\")]\n",
        "\n",
        "spiral_misclass.loc[[633, 696]]"
      ],
      "metadata": {
        "colab": {
          "base_uri": "https://localhost:8080/",
          "height": 320
        },
        "id": "1m11lwFWaOMS",
        "outputId": "e02c0664-5538-43e8-f4d7-cbbe46a9c441"
      },
      "execution_count": 16,
      "outputs": [
        {
          "output_type": "stream",
          "name": "stderr",
          "text": [
            "<ipython-input-16-f0ccc2ea415d>:6: SettingWithCopyWarning: \n",
            "A value is trying to be set on a copy of a slice from a DataFrame.\n",
            "Try using .loc[row_indexer,col_indexer] = value instead\n",
            "\n",
            "See the caveats in the documentation: https://pandas.pydata.org/pandas-docs/stable/user_guide/indexing.html#returning-a-view-versus-a-copy\n",
            "  misclassified_df[\"class\"] = y_test.iloc[misclassified]\n",
            "<ipython-input-16-f0ccc2ea415d>:7: SettingWithCopyWarning: \n",
            "A value is trying to be set on a copy of a slice from a DataFrame.\n",
            "Try using .loc[row_indexer,col_indexer] = value instead\n",
            "\n",
            "See the caveats in the documentation: https://pandas.pydata.org/pandas-docs/stable/user_guide/indexing.html#returning-a-view-versus-a-copy\n",
            "  misclassified_df[\"misclass\"] = predicted_class[actual_class != predicted_class]   # Create new column for misclassified data\n"
          ]
        },
        {
          "output_type": "execute_result",
          "data": {
            "text/plain": [
              "          u-g      g-r      r-i      i-z       ecc         m4_u      m4_g  \\\n",
              "633  10.62404  0.65843  0.36146  0.27085  0.898982 -9999.000000  2.436430   \n",
              "696   0.83962  0.59136  0.36840  0.60902  0.971008     1.937477  1.930544   \n",
              "\n",
              "         m4_r      m4_i         m4_z  R50/R90_u  R50/R90_r  R50/R90_z   class  \\\n",
              "633  2.436791  2.443566     2.435063   1.000000   0.368996   0.347411  spiral   \n",
              "696  1.952358  1.954323 -9999.000000   0.558178   0.374572   0.412992  spiral   \n",
              "\n",
              "       misclass  \n",
              "633  elliptical  \n",
              "696      merger  "
            ],
            "text/html": [
              "\n",
              "  <div id=\"df-a0d5e465-08bf-4bd1-84cf-0a362ba8697c\" class=\"colab-df-container\">\n",
              "    <div>\n",
              "<style scoped>\n",
              "    .dataframe tbody tr th:only-of-type {\n",
              "        vertical-align: middle;\n",
              "    }\n",
              "\n",
              "    .dataframe tbody tr th {\n",
              "        vertical-align: top;\n",
              "    }\n",
              "\n",
              "    .dataframe thead th {\n",
              "        text-align: right;\n",
              "    }\n",
              "</style>\n",
              "<table border=\"1\" class=\"dataframe\">\n",
              "  <thead>\n",
              "    <tr style=\"text-align: right;\">\n",
              "      <th></th>\n",
              "      <th>u-g</th>\n",
              "      <th>g-r</th>\n",
              "      <th>r-i</th>\n",
              "      <th>i-z</th>\n",
              "      <th>ecc</th>\n",
              "      <th>m4_u</th>\n",
              "      <th>m4_g</th>\n",
              "      <th>m4_r</th>\n",
              "      <th>m4_i</th>\n",
              "      <th>m4_z</th>\n",
              "      <th>R50/R90_u</th>\n",
              "      <th>R50/R90_r</th>\n",
              "      <th>R50/R90_z</th>\n",
              "      <th>class</th>\n",
              "      <th>misclass</th>\n",
              "    </tr>\n",
              "  </thead>\n",
              "  <tbody>\n",
              "    <tr>\n",
              "      <th>633</th>\n",
              "      <td>10.62404</td>\n",
              "      <td>0.65843</td>\n",
              "      <td>0.36146</td>\n",
              "      <td>0.27085</td>\n",
              "      <td>0.898982</td>\n",
              "      <td>-9999.000000</td>\n",
              "      <td>2.436430</td>\n",
              "      <td>2.436791</td>\n",
              "      <td>2.443566</td>\n",
              "      <td>2.435063</td>\n",
              "      <td>1.000000</td>\n",
              "      <td>0.368996</td>\n",
              "      <td>0.347411</td>\n",
              "      <td>spiral</td>\n",
              "      <td>elliptical</td>\n",
              "    </tr>\n",
              "    <tr>\n",
              "      <th>696</th>\n",
              "      <td>0.83962</td>\n",
              "      <td>0.59136</td>\n",
              "      <td>0.36840</td>\n",
              "      <td>0.60902</td>\n",
              "      <td>0.971008</td>\n",
              "      <td>1.937477</td>\n",
              "      <td>1.930544</td>\n",
              "      <td>1.952358</td>\n",
              "      <td>1.954323</td>\n",
              "      <td>-9999.000000</td>\n",
              "      <td>0.558178</td>\n",
              "      <td>0.374572</td>\n",
              "      <td>0.412992</td>\n",
              "      <td>spiral</td>\n",
              "      <td>merger</td>\n",
              "    </tr>\n",
              "  </tbody>\n",
              "</table>\n",
              "</div>\n",
              "    <div class=\"colab-df-buttons\">\n",
              "\n",
              "  <div class=\"colab-df-container\">\n",
              "    <button class=\"colab-df-convert\" onclick=\"convertToInteractive('df-a0d5e465-08bf-4bd1-84cf-0a362ba8697c')\"\n",
              "            title=\"Convert this dataframe to an interactive table.\"\n",
              "            style=\"display:none;\">\n",
              "\n",
              "  <svg xmlns=\"http://www.w3.org/2000/svg\" height=\"24px\" viewBox=\"0 -960 960 960\">\n",
              "    <path d=\"M120-120v-720h720v720H120Zm60-500h600v-160H180v160Zm220 220h160v-160H400v160Zm0 220h160v-160H400v160ZM180-400h160v-160H180v160Zm440 0h160v-160H620v160ZM180-180h160v-160H180v160Zm440 0h160v-160H620v160Z\"/>\n",
              "  </svg>\n",
              "    </button>\n",
              "\n",
              "  <style>\n",
              "    .colab-df-container {\n",
              "      display:flex;\n",
              "      gap: 12px;\n",
              "    }\n",
              "\n",
              "    .colab-df-convert {\n",
              "      background-color: #E8F0FE;\n",
              "      border: none;\n",
              "      border-radius: 50%;\n",
              "      cursor: pointer;\n",
              "      display: none;\n",
              "      fill: #1967D2;\n",
              "      height: 32px;\n",
              "      padding: 0 0 0 0;\n",
              "      width: 32px;\n",
              "    }\n",
              "\n",
              "    .colab-df-convert:hover {\n",
              "      background-color: #E2EBFA;\n",
              "      box-shadow: 0px 1px 2px rgba(60, 64, 67, 0.3), 0px 1px 3px 1px rgba(60, 64, 67, 0.15);\n",
              "      fill: #174EA6;\n",
              "    }\n",
              "\n",
              "    .colab-df-buttons div {\n",
              "      margin-bottom: 4px;\n",
              "    }\n",
              "\n",
              "    [theme=dark] .colab-df-convert {\n",
              "      background-color: #3B4455;\n",
              "      fill: #D2E3FC;\n",
              "    }\n",
              "\n",
              "    [theme=dark] .colab-df-convert:hover {\n",
              "      background-color: #434B5C;\n",
              "      box-shadow: 0px 1px 3px 1px rgba(0, 0, 0, 0.15);\n",
              "      filter: drop-shadow(0px 1px 2px rgba(0, 0, 0, 0.3));\n",
              "      fill: #FFFFFF;\n",
              "    }\n",
              "  </style>\n",
              "\n",
              "    <script>\n",
              "      const buttonEl =\n",
              "        document.querySelector('#df-a0d5e465-08bf-4bd1-84cf-0a362ba8697c button.colab-df-convert');\n",
              "      buttonEl.style.display =\n",
              "        google.colab.kernel.accessAllowed ? 'block' : 'none';\n",
              "\n",
              "      async function convertToInteractive(key) {\n",
              "        const element = document.querySelector('#df-a0d5e465-08bf-4bd1-84cf-0a362ba8697c');\n",
              "        const dataTable =\n",
              "          await google.colab.kernel.invokeFunction('convertToInteractive',\n",
              "                                                    [key], {});\n",
              "        if (!dataTable) return;\n",
              "\n",
              "        const docLinkHtml = 'Like what you see? Visit the ' +\n",
              "          '<a target=\"_blank\" href=https://colab.research.google.com/notebooks/data_table.ipynb>data table notebook</a>'\n",
              "          + ' to learn more about interactive tables.';\n",
              "        element.innerHTML = '';\n",
              "        dataTable['output_type'] = 'display_data';\n",
              "        await google.colab.output.renderOutput(dataTable, element);\n",
              "        const docLink = document.createElement('div');\n",
              "        docLink.innerHTML = docLinkHtml;\n",
              "        element.appendChild(docLink);\n",
              "      }\n",
              "    </script>\n",
              "  </div>\n",
              "\n",
              "\n",
              "<div id=\"df-55e9a4e9-ff52-4081-9b48-c0a077c04979\">\n",
              "  <button class=\"colab-df-quickchart\" onclick=\"quickchart('df-55e9a4e9-ff52-4081-9b48-c0a077c04979')\"\n",
              "            title=\"Suggest charts\"\n",
              "            style=\"display:none;\">\n",
              "\n",
              "<svg xmlns=\"http://www.w3.org/2000/svg\" height=\"24px\"viewBox=\"0 0 24 24\"\n",
              "     width=\"24px\">\n",
              "    <g>\n",
              "        <path d=\"M19 3H5c-1.1 0-2 .9-2 2v14c0 1.1.9 2 2 2h14c1.1 0 2-.9 2-2V5c0-1.1-.9-2-2-2zM9 17H7v-7h2v7zm4 0h-2V7h2v10zm4 0h-2v-4h2v4z\"/>\n",
              "    </g>\n",
              "</svg>\n",
              "  </button>\n",
              "\n",
              "<style>\n",
              "  .colab-df-quickchart {\n",
              "      --bg-color: #E8F0FE;\n",
              "      --fill-color: #1967D2;\n",
              "      --hover-bg-color: #E2EBFA;\n",
              "      --hover-fill-color: #174EA6;\n",
              "      --disabled-fill-color: #AAA;\n",
              "      --disabled-bg-color: #DDD;\n",
              "  }\n",
              "\n",
              "  [theme=dark] .colab-df-quickchart {\n",
              "      --bg-color: #3B4455;\n",
              "      --fill-color: #D2E3FC;\n",
              "      --hover-bg-color: #434B5C;\n",
              "      --hover-fill-color: #FFFFFF;\n",
              "      --disabled-bg-color: #3B4455;\n",
              "      --disabled-fill-color: #666;\n",
              "  }\n",
              "\n",
              "  .colab-df-quickchart {\n",
              "    background-color: var(--bg-color);\n",
              "    border: none;\n",
              "    border-radius: 50%;\n",
              "    cursor: pointer;\n",
              "    display: none;\n",
              "    fill: var(--fill-color);\n",
              "    height: 32px;\n",
              "    padding: 0;\n",
              "    width: 32px;\n",
              "  }\n",
              "\n",
              "  .colab-df-quickchart:hover {\n",
              "    background-color: var(--hover-bg-color);\n",
              "    box-shadow: 0 1px 2px rgba(60, 64, 67, 0.3), 0 1px 3px 1px rgba(60, 64, 67, 0.15);\n",
              "    fill: var(--button-hover-fill-color);\n",
              "  }\n",
              "\n",
              "  .colab-df-quickchart-complete:disabled,\n",
              "  .colab-df-quickchart-complete:disabled:hover {\n",
              "    background-color: var(--disabled-bg-color);\n",
              "    fill: var(--disabled-fill-color);\n",
              "    box-shadow: none;\n",
              "  }\n",
              "\n",
              "  .colab-df-spinner {\n",
              "    border: 2px solid var(--fill-color);\n",
              "    border-color: transparent;\n",
              "    border-bottom-color: var(--fill-color);\n",
              "    animation:\n",
              "      spin 1s steps(1) infinite;\n",
              "  }\n",
              "\n",
              "  @keyframes spin {\n",
              "    0% {\n",
              "      border-color: transparent;\n",
              "      border-bottom-color: var(--fill-color);\n",
              "      border-left-color: var(--fill-color);\n",
              "    }\n",
              "    20% {\n",
              "      border-color: transparent;\n",
              "      border-left-color: var(--fill-color);\n",
              "      border-top-color: var(--fill-color);\n",
              "    }\n",
              "    30% {\n",
              "      border-color: transparent;\n",
              "      border-left-color: var(--fill-color);\n",
              "      border-top-color: var(--fill-color);\n",
              "      border-right-color: var(--fill-color);\n",
              "    }\n",
              "    40% {\n",
              "      border-color: transparent;\n",
              "      border-right-color: var(--fill-color);\n",
              "      border-top-color: var(--fill-color);\n",
              "    }\n",
              "    60% {\n",
              "      border-color: transparent;\n",
              "      border-right-color: var(--fill-color);\n",
              "    }\n",
              "    80% {\n",
              "      border-color: transparent;\n",
              "      border-right-color: var(--fill-color);\n",
              "      border-bottom-color: var(--fill-color);\n",
              "    }\n",
              "    90% {\n",
              "      border-color: transparent;\n",
              "      border-bottom-color: var(--fill-color);\n",
              "    }\n",
              "  }\n",
              "</style>\n",
              "\n",
              "  <script>\n",
              "    async function quickchart(key) {\n",
              "      const quickchartButtonEl =\n",
              "        document.querySelector('#' + key + ' button');\n",
              "      quickchartButtonEl.disabled = true;  // To prevent multiple clicks.\n",
              "      quickchartButtonEl.classList.add('colab-df-spinner');\n",
              "      try {\n",
              "        const charts = await google.colab.kernel.invokeFunction(\n",
              "            'suggestCharts', [key], {});\n",
              "      } catch (error) {\n",
              "        console.error('Error during call to suggestCharts:', error);\n",
              "      }\n",
              "      quickchartButtonEl.classList.remove('colab-df-spinner');\n",
              "      quickchartButtonEl.classList.add('colab-df-quickchart-complete');\n",
              "    }\n",
              "    (() => {\n",
              "      let quickchartButtonEl =\n",
              "        document.querySelector('#df-55e9a4e9-ff52-4081-9b48-c0a077c04979 button');\n",
              "      quickchartButtonEl.style.display =\n",
              "        google.colab.kernel.accessAllowed ? 'block' : 'none';\n",
              "    })();\n",
              "  </script>\n",
              "</div>\n",
              "    </div>\n",
              "  </div>\n"
            ],
            "application/vnd.google.colaboratory.intrinsic+json": {
              "type": "dataframe",
              "summary": "{\n  \"name\": \"spiral_misclass\",\n  \"rows\": 2,\n  \"fields\": [\n    {\n      \"column\": \"u-g\",\n      \"properties\": {\n        \"dtype\": \"number\",\n        \"std\": 6.91862973197728,\n        \"min\": 0.83962,\n        \"max\": 10.62404,\n        \"num_unique_values\": 2,\n        \"samples\": [\n          0.83962,\n          10.62404\n        ],\n        \"semantic_type\": \"\",\n        \"description\": \"\"\n      }\n    },\n    {\n      \"column\": \"g-r\",\n      \"properties\": {\n        \"dtype\": \"number\",\n        \"std\": 0.04742565181418124,\n        \"min\": 0.5913599999999999,\n        \"max\": 0.6584299999999992,\n        \"num_unique_values\": 2,\n        \"samples\": [\n          0.5913599999999999,\n          0.6584299999999992\n        ],\n        \"semantic_type\": \"\",\n        \"description\": \"\"\n      }\n    },\n    {\n      \"column\": \"r-i\",\n      \"properties\": {\n        \"dtype\": \"number\",\n        \"std\": 0.0049073210614335025,\n        \"min\": 0.361460000000001,\n        \"max\": 0.3683999999999994,\n        \"num_unique_values\": 2,\n        \"samples\": [\n          0.3683999999999994,\n          0.361460000000001\n        ],\n        \"semantic_type\": \"\",\n        \"description\": \"\"\n      }\n    },\n    {\n      \"column\": \"i-z\",\n      \"properties\": {\n        \"dtype\": \"number\",\n        \"std\": 0.23912230019385594,\n        \"min\": 0.27084999999999937,\n        \"max\": 0.609020000000001,\n        \"num_unique_values\": 2,\n        \"samples\": [\n          0.609020000000001,\n          0.27084999999999937\n        ],\n        \"semantic_type\": \"\",\n        \"description\": \"\"\n      }\n    },\n    {\n      \"column\": \"ecc\",\n      \"properties\": {\n        \"dtype\": \"number\",\n        \"std\": 0.05092957804699541,\n        \"min\": 0.8989823,\n        \"max\": 0.9710076,\n        \"num_unique_values\": 2,\n        \"samples\": [\n          0.9710076,\n          0.8989823\n        ],\n        \"semantic_type\": \"\",\n        \"description\": \"\"\n      }\n    },\n    {\n      \"column\": \"m4_u\",\n      \"properties\": {\n        \"dtype\": \"number\",\n        \"std\": 7071.730708209382,\n        \"min\": -9999.0,\n        \"max\": 1.937477,\n        \"num_unique_values\": 2,\n        \"samples\": [\n          1.937477,\n          -9999.0\n        ],\n        \"semantic_type\": \"\",\n        \"description\": \"\"\n      }\n    },\n    {\n      \"column\": \"m4_g\",\n      \"properties\": {\n        \"dtype\": \"number\",\n        \"std\": 0.3577154211073378,\n        \"min\": 1.930544,\n        \"max\": 2.43643,\n        \"num_unique_values\": 2,\n        \"samples\": [\n          1.930544,\n          2.43643\n        ],\n        \"semantic_type\": \"\",\n        \"description\": \"\"\n      }\n    },\n    {\n      \"column\": \"m4_r\",\n      \"properties\": {\n        \"dtype\": \"number\",\n        \"std\": 0.3425458593305427,\n        \"min\": 1.952358,\n        \"max\": 2.436791,\n        \"num_unique_values\": 2,\n        \"samples\": [\n          1.952358,\n          2.436791\n        ],\n        \"semantic_type\": \"\",\n        \"description\": \"\"\n      }\n    },\n    {\n      \"column\": \"m4_i\",\n      \"properties\": {\n        \"dtype\": \"number\",\n        \"std\": 0.3459470429480501,\n        \"min\": 1.954323,\n        \"max\": 2.443566,\n        \"num_unique_values\": 2,\n        \"samples\": [\n          1.954323,\n          2.443566\n        ],\n        \"semantic_type\": \"\",\n        \"description\": \"\"\n      }\n    },\n    {\n      \"column\": \"m4_z\",\n      \"properties\": {\n        \"dtype\": \"number\",\n        \"std\": 7072.082554644205,\n        \"min\": -9999.0,\n        \"max\": 2.435063,\n        \"num_unique_values\": 2,\n        \"samples\": [\n          -9999.0,\n          2.435063\n        ],\n        \"semantic_type\": \"\",\n        \"description\": \"\"\n      }\n    },\n    {\n      \"column\": \"R50/R90_u\",\n      \"properties\": {\n        \"dtype\": \"number\",\n        \"std\": 0.31241546685544697,\n        \"min\": 0.5581778096779048,\n        \"max\": 1.0,\n        \"num_unique_values\": 2,\n        \"samples\": [\n          0.5581778096779048,\n          1.0\n        ],\n        \"semantic_type\": \"\",\n        \"description\": \"\"\n      }\n    },\n    {\n      \"column\": \"R50/R90_r\",\n      \"properties\": {\n        \"dtype\": \"number\",\n        \"std\": 0.00394293678969636,\n        \"min\": 0.36899612881430716,\n        \"max\": 0.3745722834978756,\n        \"num_unique_values\": 2,\n        \"samples\": [\n          0.3745722834978756,\n          0.36899612881430716\n        ],\n        \"semantic_type\": \"\",\n        \"description\": \"\"\n      }\n    },\n    {\n      \"column\": \"R50/R90_z\",\n      \"properties\": {\n        \"dtype\": \"number\",\n        \"std\": 0.04637264053904892,\n        \"min\": 0.34741118224830914,\n        \"max\": 0.4129919994216845,\n        \"num_unique_values\": 2,\n        \"samples\": [\n          0.4129919994216845,\n          0.34741118224830914\n        ],\n        \"semantic_type\": \"\",\n        \"description\": \"\"\n      }\n    },\n    {\n      \"column\": \"class\",\n      \"properties\": {\n        \"dtype\": \"string\",\n        \"num_unique_values\": 1,\n        \"samples\": [\n          \"spiral\"\n        ],\n        \"semantic_type\": \"\",\n        \"description\": \"\"\n      }\n    },\n    {\n      \"column\": \"misclass\",\n      \"properties\": {\n        \"dtype\": \"string\",\n        \"num_unique_values\": 2,\n        \"samples\": [\n          \"merger\"\n        ],\n        \"semantic_type\": \"\",\n        \"description\": \"\"\n      }\n    }\n  ]\n}"
            }
          },
          "metadata": {},
          "execution_count": 16
        }
      ]
    },
    {
      "cell_type": "markdown",
      "source": [
        "Notice the m4_u and m4_z columns. These misclassified data seem to have problematic values for these features which may be the cause for their misclassification. Before plotting the features for comparison, we want to drop these to not interfere with the histogram."
      ],
      "metadata": {
        "id": "EO16k3wPBAtk"
      }
    },
    {
      "cell_type": "code",
      "source": [
        "spiral_misclass = spiral_misclass.drop(index=[696, 633])    # Remove outlier data for plotting"
      ],
      "metadata": {
        "id": "CueeS3Zk_aTn"
      },
      "execution_count": 17,
      "outputs": []
    },
    {
      "cell_type": "code",
      "source": [
        "# Create df of correctly classified data\n",
        "\n",
        "classified = np.where(actual_class == predicted_class)\n",
        "\n",
        "classified_df = x_test.iloc[classified]\n",
        "classified_df[\"class\"] = y_test.iloc[classified]\n",
        "\n",
        "spiral_class = classified_df.iloc[np.where(classified_df[\"class\"] == \"spiral\")]\n",
        "merger_class = classified_df.iloc[np.where(classified_df[\"class\"] == \"merger\")]\n",
        "\n",
        "spiral_class.head()"
      ],
      "metadata": {
        "colab": {
          "base_uri": "https://localhost:8080/",
          "height": 310
        },
        "id": "5ei3qFtGc_fw",
        "outputId": "7f60aabc-48ad-4e91-8f25-4bbb1e44f43a"
      },
      "execution_count": 18,
      "outputs": [
        {
          "output_type": "stream",
          "name": "stderr",
          "text": [
            "<ipython-input-18-df84b406df4a>:6: SettingWithCopyWarning: \n",
            "A value is trying to be set on a copy of a slice from a DataFrame.\n",
            "Try using .loc[row_indexer,col_indexer] = value instead\n",
            "\n",
            "See the caveats in the documentation: https://pandas.pydata.org/pandas-docs/stable/user_guide/indexing.html#returning-a-view-versus-a-copy\n",
            "  classified_df[\"class\"] = y_test.iloc[classified]\n"
          ]
        },
        {
          "output_type": "execute_result",
          "data": {
            "text/plain": [
              "         u-g      g-r      r-i      i-z       ecc      m4_u      m4_g  \\\n",
              "595  1.23617  0.50507  0.26502  0.21291  0.816855  2.198690  2.207609   \n",
              "587  1.44921  0.68476  0.35387  0.26944  0.707266  2.213931  2.387288   \n",
              "644  1.18627  0.46909  0.30339  0.20263  0.878094  2.298472  2.313071   \n",
              "527  1.62905  0.70261  0.40292  0.24823  0.574067  1.883278  2.149960   \n",
              "582  1.22819  0.51520  0.27293  0.21718  0.883494  2.183716  2.335077   \n",
              "\n",
              "         m4_r      m4_i      m4_z  R50/R90_u  R50/R90_r  R50/R90_z   class  \n",
              "595  2.334752  2.350597  2.260829   0.400660   0.507431   0.535571  spiral  \n",
              "587  2.553287  2.574248  2.599853   0.571356   0.448379   0.396563  spiral  \n",
              "644  2.365577  2.387007  2.383433   0.543828   0.463087   0.487807  spiral  \n",
              "527  2.299755  2.385038  2.438607   0.592258   0.470469   0.422989  spiral  \n",
              "582  2.451626  2.475602  2.504146   0.549757   0.473813   0.477000  spiral  "
            ],
            "text/html": [
              "\n",
              "  <div id=\"df-94f93cc6-dccf-462d-8208-551c6abdd4a0\" class=\"colab-df-container\">\n",
              "    <div>\n",
              "<style scoped>\n",
              "    .dataframe tbody tr th:only-of-type {\n",
              "        vertical-align: middle;\n",
              "    }\n",
              "\n",
              "    .dataframe tbody tr th {\n",
              "        vertical-align: top;\n",
              "    }\n",
              "\n",
              "    .dataframe thead th {\n",
              "        text-align: right;\n",
              "    }\n",
              "</style>\n",
              "<table border=\"1\" class=\"dataframe\">\n",
              "  <thead>\n",
              "    <tr style=\"text-align: right;\">\n",
              "      <th></th>\n",
              "      <th>u-g</th>\n",
              "      <th>g-r</th>\n",
              "      <th>r-i</th>\n",
              "      <th>i-z</th>\n",
              "      <th>ecc</th>\n",
              "      <th>m4_u</th>\n",
              "      <th>m4_g</th>\n",
              "      <th>m4_r</th>\n",
              "      <th>m4_i</th>\n",
              "      <th>m4_z</th>\n",
              "      <th>R50/R90_u</th>\n",
              "      <th>R50/R90_r</th>\n",
              "      <th>R50/R90_z</th>\n",
              "      <th>class</th>\n",
              "    </tr>\n",
              "  </thead>\n",
              "  <tbody>\n",
              "    <tr>\n",
              "      <th>595</th>\n",
              "      <td>1.23617</td>\n",
              "      <td>0.50507</td>\n",
              "      <td>0.26502</td>\n",
              "      <td>0.21291</td>\n",
              "      <td>0.816855</td>\n",
              "      <td>2.198690</td>\n",
              "      <td>2.207609</td>\n",
              "      <td>2.334752</td>\n",
              "      <td>2.350597</td>\n",
              "      <td>2.260829</td>\n",
              "      <td>0.400660</td>\n",
              "      <td>0.507431</td>\n",
              "      <td>0.535571</td>\n",
              "      <td>spiral</td>\n",
              "    </tr>\n",
              "    <tr>\n",
              "      <th>587</th>\n",
              "      <td>1.44921</td>\n",
              "      <td>0.68476</td>\n",
              "      <td>0.35387</td>\n",
              "      <td>0.26944</td>\n",
              "      <td>0.707266</td>\n",
              "      <td>2.213931</td>\n",
              "      <td>2.387288</td>\n",
              "      <td>2.553287</td>\n",
              "      <td>2.574248</td>\n",
              "      <td>2.599853</td>\n",
              "      <td>0.571356</td>\n",
              "      <td>0.448379</td>\n",
              "      <td>0.396563</td>\n",
              "      <td>spiral</td>\n",
              "    </tr>\n",
              "    <tr>\n",
              "      <th>644</th>\n",
              "      <td>1.18627</td>\n",
              "      <td>0.46909</td>\n",
              "      <td>0.30339</td>\n",
              "      <td>0.20263</td>\n",
              "      <td>0.878094</td>\n",
              "      <td>2.298472</td>\n",
              "      <td>2.313071</td>\n",
              "      <td>2.365577</td>\n",
              "      <td>2.387007</td>\n",
              "      <td>2.383433</td>\n",
              "      <td>0.543828</td>\n",
              "      <td>0.463087</td>\n",
              "      <td>0.487807</td>\n",
              "      <td>spiral</td>\n",
              "    </tr>\n",
              "    <tr>\n",
              "      <th>527</th>\n",
              "      <td>1.62905</td>\n",
              "      <td>0.70261</td>\n",
              "      <td>0.40292</td>\n",
              "      <td>0.24823</td>\n",
              "      <td>0.574067</td>\n",
              "      <td>1.883278</td>\n",
              "      <td>2.149960</td>\n",
              "      <td>2.299755</td>\n",
              "      <td>2.385038</td>\n",
              "      <td>2.438607</td>\n",
              "      <td>0.592258</td>\n",
              "      <td>0.470469</td>\n",
              "      <td>0.422989</td>\n",
              "      <td>spiral</td>\n",
              "    </tr>\n",
              "    <tr>\n",
              "      <th>582</th>\n",
              "      <td>1.22819</td>\n",
              "      <td>0.51520</td>\n",
              "      <td>0.27293</td>\n",
              "      <td>0.21718</td>\n",
              "      <td>0.883494</td>\n",
              "      <td>2.183716</td>\n",
              "      <td>2.335077</td>\n",
              "      <td>2.451626</td>\n",
              "      <td>2.475602</td>\n",
              "      <td>2.504146</td>\n",
              "      <td>0.549757</td>\n",
              "      <td>0.473813</td>\n",
              "      <td>0.477000</td>\n",
              "      <td>spiral</td>\n",
              "    </tr>\n",
              "  </tbody>\n",
              "</table>\n",
              "</div>\n",
              "    <div class=\"colab-df-buttons\">\n",
              "\n",
              "  <div class=\"colab-df-container\">\n",
              "    <button class=\"colab-df-convert\" onclick=\"convertToInteractive('df-94f93cc6-dccf-462d-8208-551c6abdd4a0')\"\n",
              "            title=\"Convert this dataframe to an interactive table.\"\n",
              "            style=\"display:none;\">\n",
              "\n",
              "  <svg xmlns=\"http://www.w3.org/2000/svg\" height=\"24px\" viewBox=\"0 -960 960 960\">\n",
              "    <path d=\"M120-120v-720h720v720H120Zm60-500h600v-160H180v160Zm220 220h160v-160H400v160Zm0 220h160v-160H400v160ZM180-400h160v-160H180v160Zm440 0h160v-160H620v160ZM180-180h160v-160H180v160Zm440 0h160v-160H620v160Z\"/>\n",
              "  </svg>\n",
              "    </button>\n",
              "\n",
              "  <style>\n",
              "    .colab-df-container {\n",
              "      display:flex;\n",
              "      gap: 12px;\n",
              "    }\n",
              "\n",
              "    .colab-df-convert {\n",
              "      background-color: #E8F0FE;\n",
              "      border: none;\n",
              "      border-radius: 50%;\n",
              "      cursor: pointer;\n",
              "      display: none;\n",
              "      fill: #1967D2;\n",
              "      height: 32px;\n",
              "      padding: 0 0 0 0;\n",
              "      width: 32px;\n",
              "    }\n",
              "\n",
              "    .colab-df-convert:hover {\n",
              "      background-color: #E2EBFA;\n",
              "      box-shadow: 0px 1px 2px rgba(60, 64, 67, 0.3), 0px 1px 3px 1px rgba(60, 64, 67, 0.15);\n",
              "      fill: #174EA6;\n",
              "    }\n",
              "\n",
              "    .colab-df-buttons div {\n",
              "      margin-bottom: 4px;\n",
              "    }\n",
              "\n",
              "    [theme=dark] .colab-df-convert {\n",
              "      background-color: #3B4455;\n",
              "      fill: #D2E3FC;\n",
              "    }\n",
              "\n",
              "    [theme=dark] .colab-df-convert:hover {\n",
              "      background-color: #434B5C;\n",
              "      box-shadow: 0px 1px 3px 1px rgba(0, 0, 0, 0.15);\n",
              "      filter: drop-shadow(0px 1px 2px rgba(0, 0, 0, 0.3));\n",
              "      fill: #FFFFFF;\n",
              "    }\n",
              "  </style>\n",
              "\n",
              "    <script>\n",
              "      const buttonEl =\n",
              "        document.querySelector('#df-94f93cc6-dccf-462d-8208-551c6abdd4a0 button.colab-df-convert');\n",
              "      buttonEl.style.display =\n",
              "        google.colab.kernel.accessAllowed ? 'block' : 'none';\n",
              "\n",
              "      async function convertToInteractive(key) {\n",
              "        const element = document.querySelector('#df-94f93cc6-dccf-462d-8208-551c6abdd4a0');\n",
              "        const dataTable =\n",
              "          await google.colab.kernel.invokeFunction('convertToInteractive',\n",
              "                                                    [key], {});\n",
              "        if (!dataTable) return;\n",
              "\n",
              "        const docLinkHtml = 'Like what you see? Visit the ' +\n",
              "          '<a target=\"_blank\" href=https://colab.research.google.com/notebooks/data_table.ipynb>data table notebook</a>'\n",
              "          + ' to learn more about interactive tables.';\n",
              "        element.innerHTML = '';\n",
              "        dataTable['output_type'] = 'display_data';\n",
              "        await google.colab.output.renderOutput(dataTable, element);\n",
              "        const docLink = document.createElement('div');\n",
              "        docLink.innerHTML = docLinkHtml;\n",
              "        element.appendChild(docLink);\n",
              "      }\n",
              "    </script>\n",
              "  </div>\n",
              "\n",
              "\n",
              "<div id=\"df-4235d665-93b0-4b9a-8dd3-13199d42a38f\">\n",
              "  <button class=\"colab-df-quickchart\" onclick=\"quickchart('df-4235d665-93b0-4b9a-8dd3-13199d42a38f')\"\n",
              "            title=\"Suggest charts\"\n",
              "            style=\"display:none;\">\n",
              "\n",
              "<svg xmlns=\"http://www.w3.org/2000/svg\" height=\"24px\"viewBox=\"0 0 24 24\"\n",
              "     width=\"24px\">\n",
              "    <g>\n",
              "        <path d=\"M19 3H5c-1.1 0-2 .9-2 2v14c0 1.1.9 2 2 2h14c1.1 0 2-.9 2-2V5c0-1.1-.9-2-2-2zM9 17H7v-7h2v7zm4 0h-2V7h2v10zm4 0h-2v-4h2v4z\"/>\n",
              "    </g>\n",
              "</svg>\n",
              "  </button>\n",
              "\n",
              "<style>\n",
              "  .colab-df-quickchart {\n",
              "      --bg-color: #E8F0FE;\n",
              "      --fill-color: #1967D2;\n",
              "      --hover-bg-color: #E2EBFA;\n",
              "      --hover-fill-color: #174EA6;\n",
              "      --disabled-fill-color: #AAA;\n",
              "      --disabled-bg-color: #DDD;\n",
              "  }\n",
              "\n",
              "  [theme=dark] .colab-df-quickchart {\n",
              "      --bg-color: #3B4455;\n",
              "      --fill-color: #D2E3FC;\n",
              "      --hover-bg-color: #434B5C;\n",
              "      --hover-fill-color: #FFFFFF;\n",
              "      --disabled-bg-color: #3B4455;\n",
              "      --disabled-fill-color: #666;\n",
              "  }\n",
              "\n",
              "  .colab-df-quickchart {\n",
              "    background-color: var(--bg-color);\n",
              "    border: none;\n",
              "    border-radius: 50%;\n",
              "    cursor: pointer;\n",
              "    display: none;\n",
              "    fill: var(--fill-color);\n",
              "    height: 32px;\n",
              "    padding: 0;\n",
              "    width: 32px;\n",
              "  }\n",
              "\n",
              "  .colab-df-quickchart:hover {\n",
              "    background-color: var(--hover-bg-color);\n",
              "    box-shadow: 0 1px 2px rgba(60, 64, 67, 0.3), 0 1px 3px 1px rgba(60, 64, 67, 0.15);\n",
              "    fill: var(--button-hover-fill-color);\n",
              "  }\n",
              "\n",
              "  .colab-df-quickchart-complete:disabled,\n",
              "  .colab-df-quickchart-complete:disabled:hover {\n",
              "    background-color: var(--disabled-bg-color);\n",
              "    fill: var(--disabled-fill-color);\n",
              "    box-shadow: none;\n",
              "  }\n",
              "\n",
              "  .colab-df-spinner {\n",
              "    border: 2px solid var(--fill-color);\n",
              "    border-color: transparent;\n",
              "    border-bottom-color: var(--fill-color);\n",
              "    animation:\n",
              "      spin 1s steps(1) infinite;\n",
              "  }\n",
              "\n",
              "  @keyframes spin {\n",
              "    0% {\n",
              "      border-color: transparent;\n",
              "      border-bottom-color: var(--fill-color);\n",
              "      border-left-color: var(--fill-color);\n",
              "    }\n",
              "    20% {\n",
              "      border-color: transparent;\n",
              "      border-left-color: var(--fill-color);\n",
              "      border-top-color: var(--fill-color);\n",
              "    }\n",
              "    30% {\n",
              "      border-color: transparent;\n",
              "      border-left-color: var(--fill-color);\n",
              "      border-top-color: var(--fill-color);\n",
              "      border-right-color: var(--fill-color);\n",
              "    }\n",
              "    40% {\n",
              "      border-color: transparent;\n",
              "      border-right-color: var(--fill-color);\n",
              "      border-top-color: var(--fill-color);\n",
              "    }\n",
              "    60% {\n",
              "      border-color: transparent;\n",
              "      border-right-color: var(--fill-color);\n",
              "    }\n",
              "    80% {\n",
              "      border-color: transparent;\n",
              "      border-right-color: var(--fill-color);\n",
              "      border-bottom-color: var(--fill-color);\n",
              "    }\n",
              "    90% {\n",
              "      border-color: transparent;\n",
              "      border-bottom-color: var(--fill-color);\n",
              "    }\n",
              "  }\n",
              "</style>\n",
              "\n",
              "  <script>\n",
              "    async function quickchart(key) {\n",
              "      const quickchartButtonEl =\n",
              "        document.querySelector('#' + key + ' button');\n",
              "      quickchartButtonEl.disabled = true;  // To prevent multiple clicks.\n",
              "      quickchartButtonEl.classList.add('colab-df-spinner');\n",
              "      try {\n",
              "        const charts = await google.colab.kernel.invokeFunction(\n",
              "            'suggestCharts', [key], {});\n",
              "      } catch (error) {\n",
              "        console.error('Error during call to suggestCharts:', error);\n",
              "      }\n",
              "      quickchartButtonEl.classList.remove('colab-df-spinner');\n",
              "      quickchartButtonEl.classList.add('colab-df-quickchart-complete');\n",
              "    }\n",
              "    (() => {\n",
              "      let quickchartButtonEl =\n",
              "        document.querySelector('#df-4235d665-93b0-4b9a-8dd3-13199d42a38f button');\n",
              "      quickchartButtonEl.style.display =\n",
              "        google.colab.kernel.accessAllowed ? 'block' : 'none';\n",
              "    })();\n",
              "  </script>\n",
              "</div>\n",
              "    </div>\n",
              "  </div>\n"
            ],
            "application/vnd.google.colaboratory.intrinsic+json": {
              "type": "dataframe",
              "variable_name": "spiral_class",
              "summary": "{\n  \"name\": \"spiral_class\",\n  \"rows\": 34,\n  \"fields\": [\n    {\n      \"column\": \"u-g\",\n      \"properties\": {\n        \"dtype\": \"number\",\n        \"std\": 0.19009184980667465,\n        \"min\": 1.0198300000000007,\n        \"max\": 1.7447700000000008,\n        \"num_unique_values\": 34,\n        \"samples\": [\n          1.0198300000000007,\n          1.1927900000000022,\n          1.7172800000000006\n        ],\n        \"semantic_type\": \"\",\n        \"description\": \"\"\n      }\n    },\n    {\n      \"column\": \"g-r\",\n      \"properties\": {\n        \"dtype\": \"number\",\n        \"std\": 0.10406102172872607,\n        \"min\": 0.4065399999999997,\n        \"max\": 0.8317900000000016,\n        \"num_unique_values\": 34,\n        \"samples\": [\n          0.6064100000000003,\n          0.4535899999999984,\n          0.6737099999999998\n        ],\n        \"semantic_type\": \"\",\n        \"description\": \"\"\n      }\n    },\n    {\n      \"column\": \"r-i\",\n      \"properties\": {\n        \"dtype\": \"number\",\n        \"std\": 0.04594135511986507,\n        \"min\": 0.23381000000000007,\n        \"max\": 0.4056300000000004,\n        \"num_unique_values\": 34,\n        \"samples\": [\n          0.30342999999999876,\n          0.31169000000000047,\n          0.3502299999999998\n        ],\n        \"semantic_type\": \"\",\n        \"description\": \"\"\n      }\n    },\n    {\n      \"column\": \"i-z\",\n      \"properties\": {\n        \"dtype\": \"number\",\n        \"std\": 0.05842456779789444,\n        \"min\": 0.05186000000000135,\n        \"max\": 0.30728000000000044,\n        \"num_unique_values\": 34,\n        \"samples\": [\n          0.3059700000000003,\n          0.24340999999999902,\n          0.13984999999999914\n        ],\n        \"semantic_type\": \"\",\n        \"description\": \"\"\n      }\n    },\n    {\n      \"column\": \"ecc\",\n      \"properties\": {\n        \"dtype\": \"number\",\n        \"std\": 0.14389702102996274,\n        \"min\": 0.4317491,\n        \"max\": 0.9868051,\n        \"num_unique_values\": 34,\n        \"samples\": [\n          0.9498755,\n          0.4317491,\n          0.9868051\n        ],\n        \"semantic_type\": \"\",\n        \"description\": \"\"\n      }\n    },\n    {\n      \"column\": \"m4_u\",\n      \"properties\": {\n        \"dtype\": \"number\",\n        \"std\": 0.31899750090367285,\n        \"min\": 0.591715,\n        \"max\": 2.525602,\n        \"num_unique_values\": 34,\n        \"samples\": [\n          2.525602,\n          1.976031,\n          2.224763\n        ],\n        \"semantic_type\": \"\",\n        \"description\": \"\"\n      }\n    },\n    {\n      \"column\": \"m4_g\",\n      \"properties\": {\n        \"dtype\": \"number\",\n        \"std\": 0.12147341817575256,\n        \"min\": 2.070353,\n        \"max\": 2.652766,\n        \"num_unique_values\": 34,\n        \"samples\": [\n          2.228289,\n          2.079088,\n          2.303773\n        ],\n        \"semantic_type\": \"\",\n        \"description\": \"\"\n      }\n    },\n    {\n      \"column\": \"m4_r\",\n      \"properties\": {\n        \"dtype\": \"number\",\n        \"std\": 0.11466728630582668,\n        \"min\": 2.141803,\n        \"max\": 2.60664,\n        \"num_unique_values\": 34,\n        \"samples\": [\n          2.351167,\n          2.16399,\n          2.367869\n        ],\n        \"semantic_type\": \"\",\n        \"description\": \"\"\n      }\n    },\n    {\n      \"column\": \"m4_i\",\n      \"properties\": {\n        \"dtype\": \"number\",\n        \"std\": 0.10661934234710188,\n        \"min\": 2.200762,\n        \"max\": 2.615007,\n        \"num_unique_values\": 34,\n        \"samples\": [\n          2.423336,\n          2.201987,\n          2.397775\n        ],\n        \"semantic_type\": \"\",\n        \"description\": \"\"\n      }\n    },\n    {\n      \"column\": \"m4_z\",\n      \"properties\": {\n        \"dtype\": \"number\",\n        \"std\": 0.11254860708911739,\n        \"min\": 2.237469,\n        \"max\": 2.638444,\n        \"num_unique_values\": 34,\n        \"samples\": [\n          2.509036,\n          2.250818,\n          2.406022\n        ],\n        \"semantic_type\": \"\",\n        \"description\": \"\"\n      }\n    },\n    {\n      \"column\": \"R50/R90_u\",\n      \"properties\": {\n        \"dtype\": \"number\",\n        \"std\": 0.07310805666340378,\n        \"min\": 0.3655724725637965,\n        \"max\": 0.6780487951436198,\n        \"num_unique_values\": 34,\n        \"samples\": [\n          0.3655724725637965,\n          0.5102713217931876,\n          0.5100352542418561\n        ],\n        \"semantic_type\": \"\",\n        \"description\": \"\"\n      }\n    },\n    {\n      \"column\": \"R50/R90_r\",\n      \"properties\": {\n        \"dtype\": \"number\",\n        \"std\": 0.041556859680074346,\n        \"min\": 0.3560518058449405,\n        \"max\": 0.5369318959825411,\n        \"num_unique_values\": 34,\n        \"samples\": [\n          0.43309077825047093,\n          0.49846037187106185,\n          0.47880626251625885\n        ],\n        \"semantic_type\": \"\",\n        \"description\": \"\"\n      }\n    },\n    {\n      \"column\": \"R50/R90_z\",\n      \"properties\": {\n        \"dtype\": \"number\",\n        \"std\": 0.060149784287821896,\n        \"min\": 0.350367169322305,\n        \"max\": 0.588975943141798,\n        \"num_unique_values\": 34,\n        \"samples\": [\n          0.3689241944313146,\n          0.4556888068518469,\n          0.4789627486344559\n        ],\n        \"semantic_type\": \"\",\n        \"description\": \"\"\n      }\n    },\n    {\n      \"column\": \"class\",\n      \"properties\": {\n        \"dtype\": \"category\",\n        \"num_unique_values\": 1,\n        \"samples\": [\n          \"spiral\"\n        ],\n        \"semantic_type\": \"\",\n        \"description\": \"\"\n      }\n    }\n  ]\n}"
            }
          },
          "metadata": {},
          "execution_count": 18
        }
      ]
    },
    {
      "cell_type": "code",
      "source": [
        "\"\"\" This block of code plots all features of misclassified spirals against true spirals and mergers.\n",
        "    I ran it for obervation but plot can be quite long. \"\"\"\n",
        "\n",
        "\"\"\"\n",
        "fig, ax = plt.subplots(13, 3, figsize=(14, 32))\n",
        "\n",
        "col_name = [\"True Spiral\", \"Misclassified Spiral to Merger\", \"True Merger\"]\n",
        "\n",
        "for i, column_name in enumerate(classified_df.drop(\"class\", axis=1)):\n",
        "  ax[i, 0].hist(spiral_class[[column_name]])\n",
        "  ax[i, 0].set_title(column_name, fontsize=12)\n",
        "\n",
        "  ax[i, 1].hist(spiral_misclass[[column_name]])\n",
        "  ax[i, 1].set_title(column_name, fontsize=12)\n",
        "\n",
        "  ax[i, 2].hist(merger_class[[column_name]])\n",
        "  ax[i, 2].set_title(column_name, fontsize=12)\n",
        "\n",
        "for ax, col in zip(ax[0], col_name):\n",
        "    ax.set_title(col)\n",
        "\n",
        "fig.tight_layout()\n",
        "\"\"\""
      ],
      "metadata": {
        "colab": {
          "base_uri": "https://localhost:8080/",
          "height": 88
        },
        "id": "LnRWPeh12nyL",
        "outputId": "a8e1f936-e283-45f5-f4a4-dd2d7ecfa5a4"
      },
      "execution_count": 19,
      "outputs": [
        {
          "output_type": "execute_result",
          "data": {
            "text/plain": [
              "'\\nfig, ax = plt.subplots(13, 3, figsize=(14, 32))\\n\\ncol_name = [\"True Spiral\", \"Misclassified Spiral to Merger\", \"True Merger\"]\\n\\nfor i, column_name in enumerate(classified_df.drop(\"class\", axis=1)):\\n  ax[i, 0].hist(spiral_class[[column_name]])\\n  ax[i, 0].set_title(column_name, fontsize=12)\\n\\n  ax[i, 1].hist(spiral_misclass[[column_name]])\\n  ax[i, 1].set_title(column_name, fontsize=12)\\n\\n  ax[i, 2].hist(merger_class[[column_name]])\\n  ax[i, 2].set_title(column_name, fontsize=12)\\n\\nfor ax, col in zip(ax[0], col_name):\\n    ax.set_title(col)\\n\\nfig.tight_layout()\\n'"
            ],
            "application/vnd.google.colaboratory.intrinsic+json": {
              "type": "string"
            }
          },
          "metadata": {},
          "execution_count": 19
        }
      ]
    },
    {
      "cell_type": "markdown",
      "source": [
        "The above code plots the features of misclassified spirals against the features of true spirals and mergers. We can better know what to look for by plotting the feature importances of the classifier. Sklearn has a feature_importances_ method which shows how much a particular feature affects classification."
      ],
      "metadata": {
        "id": "BCQ6PWMlB5HB"
      }
    },
    {
      "cell_type": "code",
      "source": [
        "(pd.Series(tree_clf.feature_importances_, index=tree_clf.feature_names_in_)\n",
        "   .plot(kind='barh'))\n",
        "plt.title(\"Feature Importance histogram\")\n",
        "plt.ylabel(\"Feature names\")\n",
        "plt.xlabel(\"Normalized feature importance\")"
      ],
      "metadata": {
        "colab": {
          "base_uri": "https://localhost:8080/",
          "height": 485
        },
        "id": "5eyhNGrRDQAX",
        "outputId": "201b8df8-77d8-4cd6-feac-b53fd49c9a48"
      },
      "execution_count": 20,
      "outputs": [
        {
          "output_type": "execute_result",
          "data": {
            "text/plain": [
              "Text(0.5, 0, 'Normalized feature importance')"
            ]
          },
          "metadata": {},
          "execution_count": 20
        },
        {
          "output_type": "display_data",
          "data": {
            "text/plain": [
              "<Figure size 640x480 with 1 Axes>"
            ],
            "image/png": "[encoded data removed]"
          },
          "metadata": {}
        }
      ]
    },
    {
      "cell_type": "markdown",
      "source": [
        "According to the plot above, the R50/R90_r feature is most important in classifying the type of galaxy followed by the eccentricity. We can now focus on analyzing these particular features of the misclassified galaxies in comparison to true values."
      ],
      "metadata": {
        "id": "BLqk4kDECqaZ"
      }
    },
    {
      "cell_type": "code",
      "source": [
        "fig, ax = plt.subplots(1, 3, figsize=(14, 4))\n",
        "\n",
        "col_name = [\"True Spiral\", \"Misclassified Spiral to Merger\", \"True Merger\"]\n",
        "\n",
        "ax[0].hist(spiral_class[[\"R50/R90_z\"]])\n",
        "ax[0].set_title(\"True Spiral - R50/R90_z\", fontsize=12)\n",
        "\n",
        "ax[1].hist(spiral_misclass[[\"R50/R90_z\"]])\n",
        "ax[1].set_title(\"Misclassified Spiral - R50/R90_z\", fontsize=12)\n",
        "\n",
        "ax[2].hist(merger_class[[\"R50/R90_z\"]])\n",
        "ax[2].set_title(\"True Merger - R50/R90_z\", fontsize=12)\n",
        "\n",
        "for i in range(0, 3):\n",
        "  ax[i].set_xlabel(\"Feature value\")\n",
        "  ax[i].set_ylabel(\"Number of features\")\n",
        "  ax[i].set_xlim(0.20, 0.60)\n",
        "  ax[i].set_ylim(0, 8)"
      ],
      "metadata": {
        "colab": {
          "base_uri": "https://localhost:8080/",
          "height": 408
        },
        "id": "UawtKk4edoqy",
        "outputId": "be834d73-300d-433e-f832-a117176acb1e"
      },
      "execution_count": 21,
      "outputs": [
        {
          "output_type": "display_data",
          "data": {
            "text/plain": [
              "<Figure size 1400x400 with 3 Axes>"
            ],
            "image/png": "[encoded data removed]"
          },
          "metadata": {}
        }
      ]
    },
    {
      "cell_type": "markdown",
      "source": [
        "We observe above that the true spiral has most of its feature values for the R50/R90_z component in the range between $0.45$ to below $0.55$. On the other hand, the true merger has feature values ranging from below $0.30$ to around $0.40$. The misclassified spiral has most R50/R90_z component values sitting at around $0.35$ to below $0.45$. This is closer to the range provided by the true merger, which may have caused the misclassification."
      ],
      "metadata": {
        "id": "bMNIVbavgqfF"
      }
    },
    {
      "cell_type": "code",
      "source": [
        "fig, ax = plt.subplots(1, 3, figsize=(14, 4))\n",
        "\n",
        "col_name = [\"True Spiral\", \"Misclassified Spiral to Merger\", \"True Merger\"]\n",
        "\n",
        "ax[0].hist(spiral_class[[\"ecc\"]])\n",
        "ax[0].set_title(\"True Spiral - Eccentricity\", fontsize=12)\n",
        "\n",
        "ax[1].hist(spiral_misclass[[\"ecc\"]])\n",
        "ax[1].set_title(\"Misclassified Spiral - Eccentricity\", fontsize=12)\n",
        "\n",
        "ax[2].hist(merger_class[[\"ecc\"]])\n",
        "ax[2].set_title(\"True Merger - Eccentricity\", fontsize=12)\n",
        "\n",
        "for i in range(0, 3):\n",
        "  ax[i].set_xlabel(\"Feature value\")\n",
        "  ax[i].set_ylabel(\"Number of features\")\n",
        "  ax[i].set_xlim(0.20, 1)\n",
        "  ax[i].set_ylim(0, 8)"
      ],
      "metadata": {
        "colab": {
          "base_uri": "https://localhost:8080/",
          "height": 408
        },
        "id": "Az5_R2n4iNY3",
        "outputId": "411a6e1d-0972-4e4a-bea2-aa6e2bc93346"
      },
      "execution_count": 22,
      "outputs": [
        {
          "output_type": "display_data",
          "data": {
            "text/plain": [
              "<Figure size 1400x400 with 3 Axes>"
            ],
            "image/png": "[encoded data removed]"
          },
          "metadata": {}
        }
      ]
    },
    {
      "cell_type": "markdown",
      "source": [
        "It is more difficult to make conclusions about the eccentricity due to the fairly even spread of values of the misclassified galaxies. Still, this ambiguity may have caused the misclassification. The peak eccentricity value for the true merger is $0.8$, while the value of $0.8$ is a dip for the true spiral eccentricity. The misclassified spiral meanwhile has one of the peak values at $0.8$, which may have caused those galaxies to tend towards a merger classification. On the other hand, the true merger also has a peak between the values $0.5$ and $0.6$, while the misclassified spiral has (almost, depending on seed as well) no galaxies with those values, similar to the true spiral. For these cases, the decision tree may have relied on other features to classify the galaxies."
      ],
      "metadata": {
        "id": "Sl_0KaLbkYd4"
      }
    }
  ]
}