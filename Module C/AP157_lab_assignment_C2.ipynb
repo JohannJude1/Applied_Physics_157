{
  "cells": [
    {
      "cell_type": "markdown",
      "metadata": {
        "id": "8u3wdhYhX6GF"
      },
      "source": [
        "# **AP157 Module C Lab Assignment**\n",
        "\n",
        "## Module C2: Monte Carlo Methods\n",
        "\n",
        "_Instructions_: Answer each part of the assignment as completely as you can. Discuss **all** your code and results as clearly and concisely as possible.\n",
        "\n",
        "_Scoring Criteria_: 50% - *correctness of code*; 50% - *discussion of the code and results*. Maximum score is **100 points**.\n",
        "\n",
        "_Credits_: This lab assignment is based on work by Dr. Reyes in collaboration with Gene Belinario and Dr. Reginald Bernardo."
      ]
    },
    {
      "cell_type": "markdown",
      "metadata": {
        "id": "x6QU0eeNYseY"
      },
      "source": [
        "### Student Information\n",
        "\n",
        "_Full Name (Last Name, First Name)_: \\\n",
        "_Student No._:\\\n",
        "_Section_:"
      ]
    },
    {
      "cell_type": "markdown",
      "metadata": {
        "id": "GzwlHlFwYtbv"
      },
      "source": [
        "### Submission Information\n",
        "\n",
        "_Date and Time Submitted (most recent upload)_:\n",
        "\n",
        "**HONOR PLEDGE** I affirm that I have upheld the highest principles of honesty and integrity in my academic work and that this lab assignment is my own work.\n",
        "\n",
        "**Sign here with your full name:**"
      ]
    },
    {
      "cell_type": "markdown",
      "metadata": {
        "id": "1as4IpTFYxfx"
      },
      "source": [
        "### Grading Information (c/o Instructor)\n",
        "\n",
        "TOTAL SCORE: **[]**/100\n",
        "\n",
        "Score breakdown:\n",
        "* Part 1 - []/20\n",
        "* Part 2 - []/20\n",
        "* Part 3 - []/30\n",
        "* Part 4 - []/30\n",
        "\n",
        "_Date and Time Scored (MM/DD/YYYY HH:MM AM/PM):_"
      ]
    },
    {
      "cell_type": "markdown",
      "metadata": {
        "id": "PB0N2FuuY3RU"
      },
      "source": [
        "In this lab assignment, you will generate constraints on cosmological parameters, the Hubble parameter H_0 and matter density Omega_m,0, from (synthetic) Hubble diagram data points from gravitational-wave (GW) sirens observed from 3 GW observatories: LIGO, LISA, and Einstein Telescope (ET).\n",
        "\n",
        "The datasets are in the Google Drive \"Datasets\" Folder under \"AP157_moduleC2\" subfolder: https://drive.google.com/drive/folders/1UnK1AggxdsjtG3PoOcyXfpahBcWjOBzj?usp=drive_link.\n",
        "\n",
        "Read in the 3 datasets from the CSV files: LIGO.csv, LISA.csv, ET.csv. The columns are redshift (z), luminosity distance (dL), and error in the luminosity distance (err). The distances are in units of Gpc (giga-parsecs).\n",
        "\n",
        "Load the data into variable names: zLIGO, dLLIGO, errLIGO, zLISA, dLLISA, errLISA, and zET, dLET, and errET, respectively. Note that these variable names will be used in later parts of the code, so you have to use these names for compatibility."
      ]
    },
    {
      "cell_type": "code",
      "execution_count": 102,
      "metadata": {
        "id": "wWNT09i67_zg"
      },
      "outputs": [],
      "source": [
        "import pandas as pd\n",
        "\n",
        "et = pd.read_csv(\"ET.csv\")\n",
        "ligo = pd.read_csv(\"LIGO.csv\")\n",
        "lisa = pd.read_csv(\"LISA.csv\")\n",
        "\n",
        "zLIGO = ligo[[\"zLIGO\"]].to_numpy().flatten()\n",
        "dlLIGO = ligo[[\"dlLIGO\"]].to_numpy().flatten()\n",
        "errLIGO = ligo[[\"errLIGO\"]].to_numpy().flatten()\n",
        "\n",
        "zLISA = lisa[[\"zLISA\"]].to_numpy().flatten()\n",
        "dlLISA = lisa[\"dlLISA\"].to_numpy().flatten()\n",
        "errLISA = lisa[[\"errLISA\"]].to_numpy().flatten()\n",
        "\n",
        "zET = et[[\"zET\"]].to_numpy().flatten()\n",
        "dlET = et[[\"dlET\"]].to_numpy().flatten()\n",
        "errET = et[[\"errET\"]].to_numpy().flatten()"
      ]
    },
    {
      "cell_type": "markdown",
      "metadata": {
        "id": "Xz28sa5B9mpx"
      },
      "source": [
        "By the end of the lab assignment, you will generate constraints on the cosmological parameters H_0 and omega_m,0 for 3 samples: LIGO only, LIGO+LISA, and LIGO+LISA+ET (combined). You will generate a corner plot to visualize these constraints similar to the figure here: https://drive.google.com/file/d/18H7GPlox4ijS9qFbk1rHo-NW5N_Nsfer/view?usp=drive_link"
      ]
    },
    {
      "cell_type": "markdown",
      "metadata": {
        "id": "SqkP0l40aKHj"
      },
      "source": [
        "#### PART 1 - Generate Hubble Diagram *(20 points)*\n",
        "\n",
        "Make a Hubble diagram plot-- with luminosity distance (d_L) in the vertical axis and redshift (z) in the horizontal axis. Show the errors in d_L as error bars.\n",
        "\n",
        "Plot GW sirens from the 3 observatories in the same plot and include a legend. Briefly describe the difference between the samples from the 3 observatories."
      ]
    },
    {
      "cell_type": "code",
      "execution_count": 103,
      "metadata": {
        "id": "drqNxmsAayWH"
      },
      "outputs": [
        {
          "data": {
            "text/plain": [
              "<matplotlib.legend.Legend at 0x29b0160a050>"
            ]
          },
          "execution_count": 103,
          "metadata": {},
          "output_type": "execute_result"
        },
        {
          "data": {
            "image/png": "[encoded data removed]",
            "text/plain": [
              "<Figure size 640x480 with 1 Axes>"
            ]
          },
          "metadata": {},
          "output_type": "display_data"
        }
      ],
      "source": [
        "from matplotlib import pyplot as plt\n",
        "import numpy as np\n",
        "\n",
        "plt.errorbar(zET, dlET, xerr=None, yerr=errET, fmt='.', label=\"ET\")\n",
        "plt.errorbar(zLIGO, dlLIGO, xerr=None, yerr=errLIGO, fmt='.', label=\"LIGO\")\n",
        "plt.errorbar(zLISA, dlLISA, xerr=None, yerr=errLISA, fmt='.', label=\"LISA\")\n",
        "\n",
        "plt.legend()"
      ]
    },
    {
      "cell_type": "markdown",
      "metadata": {
        "id": "CPkkgWSqazmJ"
      },
      "source": [
        "#### PART 2 - Define likelihood functions *(20 points)*\n",
        "\n",
        "In this analysis, we will assume the cosmological model to be flat LambdaCDM universe. This is given by the `FlatLambdaCDM' model from the astropy.cosmology package. In particular, we use the model for the luminosity distance as a function of redshift, which is encoded in the luminosity_distance function.\n",
        "\n",
        "Below, define the chi-square and likelihood function to be used for the LIGO only and the LIGO+LISA dataset. You are asked to define the analogous functions for the LIGO+LISA+ET dataset. Note that the likelihood for the combined dataset is simply the sum of the likelihoods for the individual datasets.\n",
        "\n",
        "\n"
      ]
    },
    {
      "cell_type": "code",
      "execution_count": 104,
      "metadata": {
        "id": "d40B1twMbw9Y"
      },
      "outputs": [],
      "source": [
        "from astropy.cosmology import FlatLambdaCDM"
      ]
    },
    {
      "cell_type": "code",
      "execution_count": 105,
      "metadata": {
        "id": "lIFbFSTNbd9V"
      },
      "outputs": [],
      "source": [
        "def chi2LIGO_lcdm(H0, Om0):\n",
        "    cosmo = FlatLambdaCDM(H0=H0, Om0=Om0, Tcmb0=2.725)      # define cosmological model\n",
        "    model = np.array(cosmo.luminosity_distance(zLIGO)/1000) # converted from Gpc to Mpc units\n",
        "    dev = (model - np.array(dlLIGO).flatten())/np.array(errLIGO).flatten()     # deviations between model and data\n",
        "    chi2 = sum(dev**2)\n",
        "    return chi2\n",
        "\n",
        "def llikeLIGO_lcdm(H0, Om0):\n",
        "    if (H0 < 0) or (Om0 < 0):\n",
        "        return -np.inf                        # return inf if outside priors\n",
        "    else:\n",
        "        return -0.5*chi2LIGO_lcdm(H0, Om0)\n",
        "\n",
        "# LIGO + LISA\n",
        "def chi2LISA_lcdm(H0, Om0):\n",
        "    cosmo = FlatLambdaCDM(H0=H0, Om0=Om0, Tcmb0=2.725)\n",
        "    model = np.array(cosmo.luminosity_distance(zLISA)/1000)\n",
        "    dev = (model - np.array(dlLISA).flatten())/np.array(errLISA).flatten()\n",
        "    chi2 = sum(dev**2)\n",
        "    return chi2\n",
        "\n",
        "def llikeLIGOLISA_lcdm(H0, Om0):\n",
        "    if (H0 < 0) or (Om0 < 0):\n",
        "        return -np.inf\n",
        "    else:\n",
        "        return -0.5*(chi2LIGO_lcdm(H0, Om0) + chi2LISA_lcdm(H0, Om0))\n",
        "\n",
        "# LIGO + LISA + ET\n",
        "def chi2ET_lcdm(H0, Om0):\n",
        "    cosmo = FlatLambdaCDM(H0=H0, Om0=Om0, Tcmb0=2.725)\n",
        "    model = np.array(cosmo.luminosity_distance(zET)/1000)\n",
        "    dev = (model - np.array(dlET)).flatten()/np.array(errET).flatten()\n",
        "    chi2 = sum(dev**2)\n",
        "    return chi2\n",
        "\n",
        "def llikeLIGOLISAET_lcdm(H0, Om0):\n",
        "    if (H0 < 0) or (Om0 < 0):\n",
        "        return -np.inf\n",
        "    else:\n",
        "        return -0.5*(chi2LIGO_lcdm(H0, Om0) + chi2LISA_lcdm(H0, Om0) + chi2ET_lcdm(H0, Om0))"
      ]
    },
    {
      "cell_type": "markdown",
      "metadata": {
        "id": "qz6HLhQE8UAh"
      },
      "source": [
        "#### PART 3 - Perform MCMC runs *(30 points)*\n",
        "\n",
        "Use the emcee library to set up and perform MCMC runs for the 3 samples: LIGO only, LIGO+LISA, and LIGO+LISA+ET combined.\n",
        "\n",
        "You can try the ff. parameters-- number of walkers (nwalkers) of 100 and number of iterations (niter) of 1,000 and number of burn-in samples (nburn) of 100.\n",
        "\n",
        "For the methodology of stepping from one place of the grid to another, you can use:\n",
        "\n",
        "    dres = [0.1, 0.003] # step size for H_0 and omeg\n",
        "    pos0 = [result + dres * np.random.randn(ndim) for i in range(nwalkers)]\n"
      ]
    },
    {
      "cell_type": "code",
      "execution_count": 106,
      "metadata": {},
      "outputs": [],
      "source": [
        "import emcee"
      ]
    },
    {
      "cell_type": "code",
      "execution_count": 127,
      "metadata": {},
      "outputs": [],
      "source": [
        "data = (zLIGO, dlLIGO, errLIGO)\n",
        "nwalkers = 100\n",
        "niter = 1000\n",
        "initial = np.array([1.0, 1.0])\n",
        "ndim = len(initial)\n",
        "p0 = [np.array(initial) + 1e-7 * np.random.randn(ndim) for i in range(nwalkers)]"
      ]
    },
    {
      "cell_type": "code",
      "execution_count": 128,
      "metadata": {},
      "outputs": [],
      "source": [
        "def main(p0,nwalkers,niter,ndim,lnprob,data):\n",
        "    sampler = emcee.EnsembleSampler(nwalkers, ndim, lnprob, args=data)\n",
        "\n",
        "    print(\"Running burn-in...\")\n",
        "    p0, _, _ = sampler.run_mcmc(p0, 100)\n",
        "    sampler.reset()\n",
        "\n",
        "    print(\"Running production...\")\n",
        "    pos, prob, state = sampler.run_mcmc(p0, niter)\n",
        "\n",
        "    return sampler, pos, prob, state"
      ]
    },
    {
      "cell_type": "code",
      "execution_count": 129,
      "metadata": {},
      "outputs": [
        {
          "name": "stdout",
          "output_type": "stream",
          "text": [
            "Running burn-in...\n",
            "emcee: Exception while calling your likelihood function:\n",
            "  params: [0.99999994 1.00000022]\n",
            "  args: [array([0.03326963, 0.1062102 , 0.07381985, 0.04733323, 0.11396616,\n",
            "       0.06334351, 0.14859383, 0.04503595, 0.07220442, 0.07637484,\n",
            "       0.12542331, 0.04062567, 0.13418648, 0.11288156, 0.06659189,\n",
            "       0.12903727, 0.04738481, 0.13904677, 0.08628044, 0.06337685,\n",
            "       0.07171858, 0.06854914, 0.05075128, 0.10928349, 0.07897256,\n",
            "       0.15516232, 0.07895063, 0.04683229, 0.06355007, 0.07028129,\n",
            "       0.11569133, 0.05353093, 0.1194754 , 0.02734324, 0.12539399,\n",
            "       0.14616401, 0.06722899, 0.11794408, 0.02922567, 0.10115789,\n",
            "       0.06781548, 0.11656527, 0.03460488, 0.09153471, 0.14549196,\n",
            "       0.05439418, 0.07330811, 0.10385499, 0.06259524, 0.06612723,\n",
            "       0.03758876, 0.12014343, 0.06276421, 0.05516892, 0.09324343,\n",
            "       0.02731364, 0.05460465, 0.14655382, 0.10246975, 0.03812584,\n",
            "       0.0576423 , 0.03889305, 0.05357056, 0.12905991, 0.04185272,\n",
            "       0.10387006, 0.141449  , 0.04285329, 0.07820471, 0.07290048,\n",
            "       0.11639599, 0.12575326, 0.10558606, 0.0584607 , 0.04865588,\n",
            "       0.05085139, 0.02380012, 0.03338954, 0.05449228, 0.08592823,\n",
            "       0.17248121, 0.06811083, 0.11908956, 0.09590409, 0.12174601,\n",
            "       0.0435074 , 0.04897002, 0.11685569, 0.13911399, 0.13554556,\n",
            "       0.16371952, 0.10935609, 0.11628161, 0.13240867, 0.0976872 ,\n",
            "       0.14075144, 0.17073516, 0.07355995, 0.11364043, 0.03037409]), array([0.10125003, 0.69862128, 0.33801603, 0.20607487, 0.4013714 ,\n",
            "       0.37970217, 0.65120564, 0.19835946, 0.39222875, 0.31893096,\n",
            "       0.57606975, 0.17822449, 0.58314467, 0.58679133, 0.2791459 ,\n",
            "       0.78994737, 0.20376159, 0.74339601, 0.46624809, 0.4330456 ,\n",
            "       0.33291765, 0.23525981, 0.21887552, 0.4263254 , 0.45398731,\n",
            "       0.59637685, 0.41896882, 0.20862297, 0.30677871, 0.24729935,\n",
            "       0.85251342, 0.23776216, 0.33467165, 0.11761649, 0.46198248,\n",
            "       0.82792924, 0.21626748, 0.5953406 , 0.149937  , 0.56998784,\n",
            "       0.32258733, 0.74367549, 0.15147547, 0.31317869, 0.40624063,\n",
            "       0.23125135, 0.24777969, 0.39592131, 0.27475916, 0.31457189,\n",
            "       0.16400613, 0.48725323, 0.25490232, 0.25408224, 0.47690415,\n",
            "       0.07440324, 0.27168536, 0.89726312, 0.47694872, 0.13180287,\n",
            "       0.3057754 , 0.15096956, 0.29371712, 0.91445078, 0.21232904,\n",
            "       0.28663675, 0.64526896, 0.22840898, 0.30095087, 0.34877285,\n",
            "       0.53733936, 0.51072206, 0.55425151, 0.17941216, 0.2364877 ,\n",
            "       0.17252113, 0.09714429, 0.18416859, 0.28900538, 0.36567159,\n",
            "       0.01756258, 0.33648304, 0.40947264, 0.29376274, 0.41347506,\n",
            "       0.23756236, 0.23142351, 0.30046618, 0.30629233, 0.64389823,\n",
            "       0.76479463, 0.42452109, 0.658271  , 0.61515227, 0.5286309 ,\n",
            "       0.60766443, 1.06442045, 0.27840406, 0.45606382, 0.08127   ]), array([0.02614624, 0.13796794, 0.06754958, 0.03450596, 0.15971802,\n",
            "       0.05177927, 0.2809114 , 0.03271725, 0.06489233, 0.07191874,\n",
            "       0.19539867, 0.02976046, 0.225606  , 0.15656073, 0.05629767,\n",
            "       0.20754649, 0.03454811, 0.24347052, 0.09077639, 0.05182395,\n",
            "       0.06410916, 0.05918203, 0.03748783, 0.14635671, 0.07656943,\n",
            "       0.30850956, 0.0765293 , 0.03410121, 0.05205656, 0.06183562,\n",
            "       0.16481805, 0.04019656, 0.17634178, 0.02427283, 0.19530186,\n",
            "       0.2710841 , 0.05722324, 0.17162248, 0.02478077, 0.12482738,\n",
            "       0.05808664, 0.1674383 , 0.02668799, 0.10201474, 0.26840217,\n",
            "       0.04108954, 0.06669897, 0.13174199, 0.05078625, 0.05563075,\n",
            "       0.02807733, 0.17842445, 0.05100891, 0.0419118 , 0.10585439,\n",
            "       0.02426543, 0.04131097, 0.2726469 , 0.12816198, 0.02835475,\n",
            "       0.04466839, 0.02876596, 0.04023702, 0.20762395, 0.03052105,\n",
            "       0.13178127, 0.25259655, 0.03117641, 0.07517292, 0.06602728,\n",
            "       0.16692882, 0.1964898 , 0.13630092, 0.04562446, 0.03561422,\n",
            "       0.03758098, 0.02350351, 0.02619295, 0.04119257, 0.0900537 ,\n",
            "       0.38865413, 0.05852557, 0.17514549, 0.11201417, 0.18348001,\n",
            "       0.0316221 , 0.0358859 , 0.16831449, 0.24372324, 0.23052099,\n",
            "       0.34675568, 0.14655852, 0.16658513, 0.21927049, 0.11626599,\n",
            "       0.24992621, 0.38008078, 0.06711655, 0.15876584, 0.02512872])]\n",
            "  kwargs: {}\n",
            "  exception:\n"
          ]
        },
        {
          "name": "stderr",
          "output_type": "stream",
          "text": [
            "Traceback (most recent call last):\n",
            "  File \"c:\\Users\\johan\\anaconda3\\Lib\\site-packages\\emcee\\ensemble.py\", line 640, in __call__\n",
            "    return self.f(x, *self.args, **self.kwargs)\n",
            "           ^^^^^^^^^^^^^^^^^^^^^^^^^^^^^^^^^^^^\n",
            "TypeError: llikeLIGO_lcdm() takes 2 positional arguments but 4 were given\n"
          ]
        },
        {
          "ename": "TypeError",
          "evalue": "llikeLIGO_lcdm() takes 2 positional arguments but 4 were given",
          "output_type": "error",
          "traceback": [
            "\u001b[1;31m---------------------------------------------------------------------------\u001b[0m",
            "\u001b[1;31mTypeError\u001b[0m                                 Traceback (most recent call last)",
            "Cell \u001b[1;32mIn[129], line 1\u001b[0m\n\u001b[1;32m----> 1\u001b[0m sampler, pos, prob, state \u001b[38;5;241m=\u001b[39m main(p0,nwalkers,niter,ndim,llikeLIGO_lcdm,data)\n",
            "Cell \u001b[1;32mIn[128], line 5\u001b[0m, in \u001b[0;36mmain\u001b[1;34m(p0, nwalkers, niter, ndim, lnprob, data)\u001b[0m\n\u001b[0;32m      2\u001b[0m sampler \u001b[38;5;241m=\u001b[39m emcee\u001b[38;5;241m.\u001b[39mEnsembleSampler(nwalkers, ndim, lnprob, args\u001b[38;5;241m=\u001b[39mdata)\n\u001b[0;32m      4\u001b[0m \u001b[38;5;28mprint\u001b[39m(\u001b[38;5;124m\"\u001b[39m\u001b[38;5;124mRunning burn-in...\u001b[39m\u001b[38;5;124m\"\u001b[39m)\n\u001b[1;32m----> 5\u001b[0m p0, _, _ \u001b[38;5;241m=\u001b[39m sampler\u001b[38;5;241m.\u001b[39mrun_mcmc(p0, \u001b[38;5;241m100\u001b[39m)\n\u001b[0;32m      6\u001b[0m sampler\u001b[38;5;241m.\u001b[39mreset()\n\u001b[0;32m      8\u001b[0m \u001b[38;5;28mprint\u001b[39m(\u001b[38;5;124m\"\u001b[39m\u001b[38;5;124mRunning production...\u001b[39m\u001b[38;5;124m\"\u001b[39m)\n",
            "File \u001b[1;32mc:\\Users\\johan\\anaconda3\\Lib\\site-packages\\emcee\\ensemble.py:450\u001b[0m, in \u001b[0;36mEnsembleSampler.run_mcmc\u001b[1;34m(self, initial_state, nsteps, **kwargs)\u001b[0m\n\u001b[0;32m    447\u001b[0m     initial_state \u001b[38;5;241m=\u001b[39m \u001b[38;5;28mself\u001b[39m\u001b[38;5;241m.\u001b[39m_previous_state\n\u001b[0;32m    449\u001b[0m results \u001b[38;5;241m=\u001b[39m \u001b[38;5;28;01mNone\u001b[39;00m\n\u001b[1;32m--> 450\u001b[0m \u001b[38;5;28;01mfor\u001b[39;00m results \u001b[38;5;129;01min\u001b[39;00m \u001b[38;5;28mself\u001b[39m\u001b[38;5;241m.\u001b[39msample(initial_state, iterations\u001b[38;5;241m=\u001b[39mnsteps, \u001b[38;5;241m*\u001b[39m\u001b[38;5;241m*\u001b[39mkwargs):\n\u001b[0;32m    451\u001b[0m     \u001b[38;5;28;01mpass\u001b[39;00m\n\u001b[0;32m    453\u001b[0m \u001b[38;5;66;03m# Store so that the ``initial_state=None`` case will work\u001b[39;00m\n",
            "File \u001b[1;32mc:\\Users\\johan\\anaconda3\\Lib\\site-packages\\emcee\\ensemble.py:351\u001b[0m, in \u001b[0;36mEnsembleSampler.sample\u001b[1;34m(self, initial_state, log_prob0, rstate0, blobs0, iterations, tune, skip_initial_state_check, thin_by, thin, store, progress, progress_kwargs)\u001b[0m\n\u001b[0;32m    349\u001b[0m     state\u001b[38;5;241m.\u001b[39mblobs \u001b[38;5;241m=\u001b[39m blobs0\n\u001b[0;32m    350\u001b[0m \u001b[38;5;28;01mif\u001b[39;00m state\u001b[38;5;241m.\u001b[39mlog_prob \u001b[38;5;129;01mis\u001b[39;00m \u001b[38;5;28;01mNone\u001b[39;00m:\n\u001b[1;32m--> 351\u001b[0m     state\u001b[38;5;241m.\u001b[39mlog_prob, state\u001b[38;5;241m.\u001b[39mblobs \u001b[38;5;241m=\u001b[39m \u001b[38;5;28mself\u001b[39m\u001b[38;5;241m.\u001b[39mcompute_log_prob(state\u001b[38;5;241m.\u001b[39mcoords)\n\u001b[0;32m    352\u001b[0m \u001b[38;5;28;01mif\u001b[39;00m np\u001b[38;5;241m.\u001b[39mshape(state\u001b[38;5;241m.\u001b[39mlog_prob) \u001b[38;5;241m!=\u001b[39m (\u001b[38;5;28mself\u001b[39m\u001b[38;5;241m.\u001b[39mnwalkers,):\n\u001b[0;32m    353\u001b[0m     \u001b[38;5;28;01mraise\u001b[39;00m \u001b[38;5;167;01mValueError\u001b[39;00m(\u001b[38;5;124m\"\u001b[39m\u001b[38;5;124mincompatible input dimensions\u001b[39m\u001b[38;5;124m\"\u001b[39m)\n",
            "File \u001b[1;32mc:\\Users\\johan\\anaconda3\\Lib\\site-packages\\emcee\\ensemble.py:496\u001b[0m, in \u001b[0;36mEnsembleSampler.compute_log_prob\u001b[1;34m(self, coords)\u001b[0m\n\u001b[0;32m    494\u001b[0m     \u001b[38;5;28;01melse\u001b[39;00m:\n\u001b[0;32m    495\u001b[0m         map_func \u001b[38;5;241m=\u001b[39m \u001b[38;5;28mmap\u001b[39m\n\u001b[1;32m--> 496\u001b[0m     results \u001b[38;5;241m=\u001b[39m \u001b[38;5;28mlist\u001b[39m(map_func(\u001b[38;5;28mself\u001b[39m\u001b[38;5;241m.\u001b[39mlog_prob_fn, p))\n\u001b[0;32m    498\u001b[0m \u001b[38;5;28;01mtry\u001b[39;00m:\n\u001b[0;32m    499\u001b[0m     \u001b[38;5;66;03m# perhaps log_prob_fn returns blobs?\u001b[39;00m\n\u001b[0;32m    500\u001b[0m \n\u001b[1;32m   (...)\u001b[0m\n\u001b[0;32m    504\u001b[0m     \u001b[38;5;66;03m# l is a length-1 array, np.array([1.234]). In that case blob\u001b[39;00m\n\u001b[0;32m    505\u001b[0m     \u001b[38;5;66;03m# will become an empty list.\u001b[39;00m\n\u001b[0;32m    506\u001b[0m     blob \u001b[38;5;241m=\u001b[39m [l[\u001b[38;5;241m1\u001b[39m:] \u001b[38;5;28;01mfor\u001b[39;00m l \u001b[38;5;129;01min\u001b[39;00m results \u001b[38;5;28;01mif\u001b[39;00m \u001b[38;5;28mlen\u001b[39m(l) \u001b[38;5;241m>\u001b[39m \u001b[38;5;241m1\u001b[39m]\n",
            "File \u001b[1;32mc:\\Users\\johan\\anaconda3\\Lib\\site-packages\\emcee\\ensemble.py:640\u001b[0m, in \u001b[0;36m_FunctionWrapper.__call__\u001b[1;34m(self, x)\u001b[0m\n\u001b[0;32m    638\u001b[0m \u001b[38;5;28;01mdef\u001b[39;00m \u001b[38;5;21m__call__\u001b[39m(\u001b[38;5;28mself\u001b[39m, x):\n\u001b[0;32m    639\u001b[0m     \u001b[38;5;28;01mtry\u001b[39;00m:\n\u001b[1;32m--> 640\u001b[0m         \u001b[38;5;28;01mreturn\u001b[39;00m \u001b[38;5;28mself\u001b[39m\u001b[38;5;241m.\u001b[39mf(x, \u001b[38;5;241m*\u001b[39m\u001b[38;5;28mself\u001b[39m\u001b[38;5;241m.\u001b[39margs, \u001b[38;5;241m*\u001b[39m\u001b[38;5;241m*\u001b[39m\u001b[38;5;28mself\u001b[39m\u001b[38;5;241m.\u001b[39mkwargs)\n\u001b[0;32m    641\u001b[0m     \u001b[38;5;28;01mexcept\u001b[39;00m:  \u001b[38;5;66;03m# pragma: no cover\u001b[39;00m\n\u001b[0;32m    642\u001b[0m         \u001b[38;5;28;01mimport\u001b[39;00m \u001b[38;5;21;01mtraceback\u001b[39;00m\n",
            "\u001b[1;31mTypeError\u001b[0m: llikeLIGO_lcdm() takes 2 positional arguments but 4 were given"
          ]
        }
      ],
      "source": [
        "sampler, pos, prob, state = main(p0,nwalkers,niter,ndim,llikeLIGO_lcdm,data)"
      ]
    },
    {
      "cell_type": "markdown",
      "metadata": {
        "id": "WAjESvPb8q3X"
      },
      "source": [
        "#### PART 4 - Generate corner plot to visualize the constraints *(30 points)*\n",
        "\n",
        "Overlay the results for the 3 samples for easy comparison. Your plot should resemble the figure here: https://drive.google.com/file/d/18H7GPlox4ijS9qFbk1rHo-NW5N_Nsfer/view?usp=drive_link\n",
        "\n",
        "Briefly describe the difference between the constraints obtained from the different samples."
      ]
    },
    {
      "cell_type": "code",
      "execution_count": null,
      "metadata": {
        "id": "4_ITeJOM8uww"
      },
      "outputs": [],
      "source": []
    }
  ],
  "metadata": {
    "colab": {
      "provenance": []
    },
    "kernelspec": {
      "display_name": "Python 3",
      "name": "python3"
    },
    "language_info": {
      "codemirror_mode": {
        "name": "ipython",
        "version": 3
      },
      "file_extension": ".py",
      "mimetype": "text/x-python",
      "name": "python",
      "nbconvert_exporter": "python",
      "pygments_lexer": "ipython3",
      "version": "3.11.5"
    }
  },
  "nbformat": 4,
  "nbformat_minor": 0
}
